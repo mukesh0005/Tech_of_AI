{
  "cells": [
    {
      "cell_type": "code",
      "execution_count": null,
      "metadata": {
        "id": "sXoHHHwkFtoY",
        "outputId": "7bbb9ff5-ffcb-4e30-cdbe-83ea8baeb5ae"
      },
      "outputs": [
        {
          "name": "stderr",
          "output_type": "stream",
          "text": [
            "/anaconda3/lib/python3.6/site-packages/h5py/__init__.py:36: FutureWarning: Conversion of the second argument of issubdtype from `float` to `np.floating` is deprecated. In future, it will be treated as `np.float64 == np.dtype(float).type`.\n",
            "  from ._conv import register_converters as _register_converters\n",
            "Using TensorFlow backend.\n"
          ]
        },
        {
          "name": "stdout",
          "output_type": "stream",
          "text": [
            "Text length: 600893\n"
          ]
        }
      ],
      "source": [
        "import keras\n",
        "import numpy as np\n",
        "\n",
        "path = keras.utils.get_file(\n",
        "    'nietzsche.txt',\n",
        "    origin='https://s3.amazonaws.com/text-datasets/nietzsche.txt')\n",
        "text = open(path).read().lower()\n",
        "print('Text length:', len(text))"
      ]
    },
    {
      "cell_type": "code",
      "execution_count": null,
      "metadata": {
        "id": "EfvtXb_EFtoZ",
        "outputId": "7dfbb8b3-172f-470c-c03b-dd14f4b91446"
      },
      "outputs": [
        {
          "data": {
            "text/plain": [
              "'preface\\n\\n\\nsupposing that truth is a woman--what then? is there not ground\\nfor suspecting that all philosophers, in so far as they have been\\ndogmatists, have failed to understand women--that the terrible\\nseriousness and clumsy importunity with which they have usually paid\\ntheir addresses to truth, have been unskilled and unseemly methods for\\nwinning a woman? certainly she has never allowed herself to be won; and\\nat present every kind of dogma stands with sad and discouraged mien--if,\\nindeed, it stands at all! for there are scoffers who maintain that it\\nhas fallen, that all dogma lies on the ground--nay more, that it is at\\nits last gasp. but to speak seriously, there are good grounds for hoping\\nthat all dogmatizing in philosophy, whatever solemn, whatever conclusive\\nand decided airs it has assumed, may have been only a noble puerilism\\nand tyronism; and probably the time is at hand when it will be once\\nand again understood what has actually sufficed for the basis of such\\nimposing and abso'"
            ]
          },
          "execution_count": 2,
          "metadata": {},
          "output_type": "execute_result"
        }
      ],
      "source": [
        "text[0:1000]"
      ]
    },
    {
      "cell_type": "code",
      "execution_count": null,
      "metadata": {
        "id": "gKggwtjrFtoa"
      },
      "outputs": [],
      "source": [
        "from keras.preprocessing.text import Tokenizer\n",
        "\n",
        "tokenizer = Tokenizer(char_level=True, filters='#$%&*+@/<=>^_')\n",
        "tokenizer.fit_on_texts(text)"
      ]
    },
    {
      "cell_type": "code",
      "execution_count": null,
      "metadata": {
        "id": "YlUQlxV9Ftoa",
        "outputId": "de39efe8-6072-4059-c233-38407b4c2af4"
      },
      "outputs": [
        {
          "name": "stdout",
          "output_type": "stream",
          "text": [
            "Number of segments: 200278\n"
          ]
        }
      ],
      "source": [
        "seg_len = 60\n",
        "stride = 3\n",
        "segments = []\n",
        "next_chars = []\n",
        "\n",
        "for i in range(0, len(text) - seg_len, stride):\n",
        "    segments.append(text[i: i + seg_len])\n",
        "    next_chars.append(text[i + seg_len])\n",
        "\n",
        "print('Number of segments:', len(segments))"
      ]
    },
    {
      "cell_type": "code",
      "execution_count": null,
      "metadata": {
        "id": "qUGNvalIFtoa",
        "outputId": "536f80e0-5a4c-4cb6-dbd0-a830c1dfb738"
      },
      "outputs": [
        {
          "data": {
            "text/plain": [
              "'preface\\n\\n\\nsupposing that truth is a woman--what then? is the'"
            ]
          },
          "execution_count": 5,
          "metadata": {},
          "output_type": "execute_result"
        }
      ],
      "source": [
        "segments[0]"
      ]
    },
    {
      "cell_type": "code",
      "execution_count": null,
      "metadata": {
        "scrolled": true,
        "id": "dZZ9Dv7fFtoa",
        "outputId": "33284b7e-e348-4775-a655-ba1c2d64b478"
      },
      "outputs": [
        {
          "data": {
            "text/plain": [
              "'face\\n\\n\\nsupposing that truth is a woman--what then? is there '"
            ]
          },
          "execution_count": 6,
          "metadata": {},
          "output_type": "execute_result"
        }
      ],
      "source": [
        "segments[1]"
      ]
    },
    {
      "cell_type": "code",
      "execution_count": null,
      "metadata": {
        "id": "mOzdInxwFtoa",
        "outputId": "3fdeb646-23b8-4633-b614-1c44f16b034e"
      },
      "outputs": [
        {
          "name": "stdout",
          "output_type": "stream",
          "text": [
            "(200278, 60)\n"
          ]
        }
      ],
      "source": [
        "from keras.preprocessing.sequence import pad_sequences\n",
        "\n",
        "sequences_raw = tokenizer.texts_to_sequences(segments)\n",
        "sequences = pad_sequences(sequences_raw, maxlen=seg_len)\n",
        "\n",
        "print(sequences.shape)"
      ]
    },
    {
      "cell_type": "code",
      "execution_count": null,
      "metadata": {
        "id": "J2I4XEC0Ftob",
        "outputId": "ad17c1b1-5886-4c1c-9414-6022648cd4c0"
      },
      "outputs": [
        {
          "name": "stdout",
          "output_type": "stream",
          "text": [
            "[18  9  2 15  5 13  2 17 17 17  8 14 18 18  6  8  4  7 19  1  3 10  5  3\n",
            "  1  3  9 14  3 10  1  4  8  1  5  1 21  6 16  5  7 25 25 21 10  5  3  1\n",
            "  3 10  2  7 35  1  4  8  1  3 10  2]\n"
          ]
        }
      ],
      "source": [
        "print(sequences[0, :])"
      ]
    },
    {
      "cell_type": "code",
      "execution_count": null,
      "metadata": {
        "id": "AH7ChBzAFtob",
        "outputId": "b531d5de-729b-48ae-a35d-aec2ecb5048e"
      },
      "outputs": [
        {
          "name": "stdout",
          "output_type": "stream",
          "text": [
            "{' ': 1, 'e': 2, 't': 3, 'i': 4, 'a': 5, 'o': 6, 'n': 7, 's': 8, 'r': 9, 'h': 10, 'l': 11, 'd': 12, 'c': 13, 'u': 14, 'f': 15, 'm': 16, '\\n': 17, 'p': 18, 'g': 19, 'y': 20, 'w': 21, ',': 22, 'b': 23, 'v': 24, '-': 25, '.': 26, 'k': 27, '\"': 28, 'x': 29, ':': 30, ';': 31, 'j': 32, 'q': 33, '!': 34, '?': 35, '(': 36, ')': 37, '1': 38, '=': 39, \"'\": 40, 'z': 41, '2': 42, '_': 43, '3': 44, '4': 45, '5': 46, '8': 47, '6': 48, '7': 49, '[': 50, ']': 51, '9': 52, '0': 53, 'ä': 54, 'æ': 55, 'é': 56, 'ë': 57}\n"
          ]
        }
      ],
      "source": [
        "char_index = tokenizer.word_index\n",
        "print(char_index)"
      ]
    },
    {
      "cell_type": "code",
      "execution_count": null,
      "metadata": {
        "id": "oCbEfbdeFtob",
        "outputId": "2a5d6e1f-b9ca-406d-be44-df5d1e6df35c"
      },
      "outputs": [
        {
          "name": "stdout",
          "output_type": "stream",
          "text": [
            "{1: ' ', 2: 'e', 3: 't', 4: 'i', 5: 'a', 6: 'o', 7: 'n', 8: 's', 9: 'r', 10: 'h', 11: 'l', 12: 'd', 13: 'c', 14: 'u', 15: 'f', 16: 'm', 17: '\\n', 18: 'p', 19: 'g', 20: 'y', 21: 'w', 22: ',', 23: 'b', 24: 'v', 25: '-', 26: '.', 27: 'k', 28: '\"', 29: 'x', 30: ':', 31: ';', 32: 'j', 33: 'q', 34: '!', 35: '?', 36: '(', 37: ')', 38: '1', 39: '=', 40: \"'\", 41: 'z', 42: '2', 43: '_', 44: '3', 45: '4', 46: '5', 47: '8', 48: '6', 49: '7', 50: '[', 51: ']', 52: '9', 53: '0', 54: 'ä', 55: 'æ', 56: 'é', 57: 'ë'}\n"
          ]
        }
      ],
      "source": [
        "inv_char_index = {v: k for k, v in char_index.items()}\n",
        "print(inv_char_index)"
      ]
    },
    {
      "cell_type": "code",
      "execution_count": null,
      "metadata": {
        "id": "cN7hNqIrFtob"
      },
      "outputs": [],
      "source": [
        "vocabulary = len(char_index)\n",
        "seg_num = len(segments)\n",
        "\n",
        "# one-hot encode\n",
        "x = np.zeros((seg_num, seg_len, vocabulary), dtype=np.bool)\n",
        "y = np.zeros((seg_num, vocabulary), dtype=np.bool)\n",
        "\n",
        "for i, seg in enumerate(segments):\n",
        "    y[i, char_index[next_chars[i]]-1] = 1\n",
        "    for t, char in enumerate(seg):\n",
        "        x[i, t, char_index[char]-1] = 1"
      ]
    },
    {
      "cell_type": "code",
      "execution_count": null,
      "metadata": {
        "id": "_uZqpZG8Ftob",
        "outputId": "2ec3caa2-3cfe-4d31-fb68-481a4fedff1b"
      },
      "outputs": [
        {
          "data": {
            "text/plain": [
              "(200278, 60, 57)"
            ]
          },
          "execution_count": 12,
          "metadata": {},
          "output_type": "execute_result"
        }
      ],
      "source": [
        "x.shape"
      ]
    },
    {
      "cell_type": "code",
      "execution_count": null,
      "metadata": {
        "id": "ZTHXoxTfFtoc",
        "outputId": "a63866bf-5d48-44e7-f7c0-45286e489bbf"
      },
      "outputs": [
        {
          "data": {
            "text/plain": [
              "(200278, 57)"
            ]
          },
          "execution_count": 13,
          "metadata": {},
          "output_type": "execute_result"
        }
      ],
      "source": [
        "y.shape"
      ]
    },
    {
      "cell_type": "code",
      "execution_count": null,
      "metadata": {
        "id": "SrLw_O3wFtoc",
        "outputId": "d4b6000f-c8e5-4620-b682-767379845dcc"
      },
      "outputs": [
        {
          "name": "stdout",
          "output_type": "stream",
          "text": [
            "_________________________________________________________________\n",
            "Layer (type)                 Output Shape              Param #   \n",
            "=================================================================\n",
            "lstm_1 (LSTM)                (None, 128)               95232     \n",
            "_________________________________________________________________\n",
            "dense_1 (Dense)              (None, 57)                7353      \n",
            "=================================================================\n",
            "Total params: 102,585\n",
            "Trainable params: 102,585\n",
            "Non-trainable params: 0\n",
            "_________________________________________________________________\n"
          ]
        }
      ],
      "source": [
        "from keras import layers\n",
        "\n",
        "model = keras.models.Sequential()\n",
        "model.add(layers.LSTM(128, input_shape=(seg_len, vocabulary)))\n",
        "model.add(layers.Dense(vocabulary, activation='softmax'))\n",
        "model.summary()"
      ]
    },
    {
      "cell_type": "code",
      "execution_count": null,
      "metadata": {
        "id": "lcEdhnAJFtoc"
      },
      "outputs": [],
      "source": [
        "optimizer = keras.optimizers.RMSprop(lr=0.01)\n",
        "model.compile(loss='categorical_crossentropy', optimizer=optimizer)"
      ]
    },
    {
      "cell_type": "code",
      "execution_count": null,
      "metadata": {
        "id": "QP-2mAGTFtoc",
        "outputId": "15aacf13-0fff-432e-abc5-b50bea2b0866"
      },
      "outputs": [
        {
          "name": "stdout",
          "output_type": "stream",
          "text": [
            "Epoch 1/15\n",
            "200278/200278 [==============================] - 122s 610us/step - loss: 1.4462\n",
            "Epoch 2/15\n",
            "200278/200278 [==============================] - 116s 581us/step - loss: 1.4279\n",
            "Epoch 3/15\n",
            "200278/200278 [==============================] - 121s 606us/step - loss: 1.4139\n",
            "Epoch 4/15\n",
            "200278/200278 [==============================] - 124s 617us/step - loss: 1.4025\n",
            "Epoch 5/15\n",
            "200278/200278 [==============================] - 122s 608us/step - loss: 1.3930\n",
            "Epoch 6/15\n",
            "200278/200278 [==============================] - 123s 615us/step - loss: 1.3828\n",
            "Epoch 7/15\n",
            "200278/200278 [==============================] - 123s 616us/step - loss: 1.3737\n",
            "Epoch 8/15\n",
            "200278/200278 [==============================] - 125s 623us/step - loss: 1.3675\n",
            "Epoch 9/15\n",
            "200278/200278 [==============================] - 127s 635us/step - loss: 1.3616\n",
            "Epoch 10/15\n",
            "200278/200278 [==============================] - 125s 622us/step - loss: 1.3552\n",
            "Epoch 11/15\n",
            "200278/200278 [==============================] - 125s 623us/step - loss: 1.3500\n",
            "Epoch 12/15\n",
            "200278/200278 [==============================] - 125s 623us/step - loss: 1.3467\n",
            "Epoch 13/15\n",
            "200278/200278 [==============================] - 125s 623us/step - loss: 1.3412\n",
            "Epoch 14/15\n",
            "200278/200278 [==============================] - 125s 623us/step - loss: 1.3350\n",
            "Epoch 15/15\n",
            "200278/200278 [==============================] - 130s 648us/step - loss: 1.3331\n"
          ]
        },
        {
          "data": {
            "text/plain": [
              "<keras.callbacks.History at 0x112d5bef0>"
            ]
          },
          "execution_count": 28,
          "metadata": {},
          "output_type": "execute_result"
        }
      ],
      "source": [
        "model.fit(x, y, batch_size=128, epochs=15)"
      ]
    },
    {
      "cell_type": "code",
      "execution_count": null,
      "metadata": {
        "id": "FP-VxRMYFtoc"
      },
      "outputs": [],
      "source": [
        "def sample(preds, temperature=1.0):\n",
        "    preds = np.asarray(preds).astype('float64')\n",
        "    preds = np.log(preds) / temperature\n",
        "    exp_preds = np.exp(preds)\n",
        "    preds = exp_preds / np.sum(exp_preds)\n",
        "    probas = np.random.multinomial(1, preds, 1)\n",
        "    return np.argmax(probas)\n",
        "\n",
        "\n",
        "def text_generation(model, x, segments, char_num, inv_char_index, temperature, rand_index):\n",
        "    _, seg_len, vocabulary = x.shape\n",
        "    x_input = x[rand_index, :, :].reshape((1, seg_len, vocabulary))\n",
        "    text = segments[rand_index]\n",
        "    for i in range(char_num):\n",
        "        pred = model.predict(x_input, verbose=0)[0]\n",
        "        next_index = sample(pred, temperature)\n",
        "        next_char = inv_char_index[next_index+1]\n",
        "        text += next_char\n",
        "        x_input[0, 0:seg_len-1, :] = x_input[0, 1:seg_len, :]\n",
        "        x_input[0, seg_len-1, :] = 0\n",
        "        x_input[0, seg_len-1, next_index] = 1\n",
        "    return text"
      ]
    },
    {
      "cell_type": "code",
      "execution_count": null,
      "metadata": {
        "id": "E07DijPOFtoc",
        "outputId": "b039cf3b-fb5e-4d5d-bf7b-c2f33efb3a0f"
      },
      "outputs": [
        {
          "name": "stdout",
          "output_type": "stream",
          "text": [
            "mmediately disclose what it really is--namely, a will\n",
            "to the the believest constive the art of the persision the says of a gan himself need not religion a consting be naturing and suld the pretendents as the constion. the are the good teach that the most and find of endent and the self it of instinct a mean constition of can the constive in this sour from the bad and all the philosophy to condividuation men and the goence the condines the all as most strat\n"
          ]
        }
      ],
      "source": [
        "#rand_index = np.random.randint(0, seg_num)\n",
        "generated_text = text_generation(model, x, segments, 400,\n",
        "                                 inv_char_index, 0.5, rand_index)\n",
        "print(generated_text)"
      ]
    },
    {
      "cell_type": "code",
      "execution_count": null,
      "metadata": {
        "id": "YIkFhkNBFtoc",
        "outputId": "80296d01-af8e-4fb1-a6b5-b767ed77b370"
      },
      "outputs": [
        {
          "name": "stdout",
          "output_type": "stream",
          "text": [
            "mmediately disclose what it really is--namely, a will\n",
            "to thecience of the original he who has not in the truth of the point, has not words from the devilished and sensible and discerence to the far an morals: the desire to a such as to the sexual of the morality and their world and with an ought of the morally and self-possession of the presumptance, of philosophy the sense of the conduct of the and oppression that a man of a delicate and can be a man of h\n"
          ]
        }
      ],
      "source": [
        "generated_text = text_generation(model, x, segments, 400,\n",
        "                                 inv_char_index, 0.5, rand_index)\n",
        "print(generated_text)"
      ]
    },
    {
      "cell_type": "code",
      "execution_count": null,
      "metadata": {
        "id": "eorCn0znFtoc"
      },
      "outputs": [],
      "source": []
    },
    {
      "cell_type": "code",
      "execution_count": null,
      "metadata": {
        "id": "pMN9AeXpFtoc",
        "outputId": "b0faeb7c-bf2a-4749-b8d4-e4984177cc19"
      },
      "outputs": [
        {
          "data": {
            "text/plain": [
              "array([[0, 0, 1, 0]])"
            ]
          },
          "execution_count": 29,
          "metadata": {},
          "output_type": "execute_result"
        }
      ],
      "source": [
        "np.random.multinomial(1, [0.1, 0.5, 0.2, 0.2], 1)"
      ]
    },
    {
      "cell_type": "code",
      "execution_count": null,
      "metadata": {
        "id": "XgBHok-rFtod"
      },
      "outputs": [],
      "source": [
        "prob = np.array([0.1, 0.5, 0.2, 0.2])\n",
        "prob = prob ** 0.5"
      ]
    },
    {
      "cell_type": "code",
      "execution_count": null,
      "metadata": {
        "id": "ujKtPpKrFtod",
        "outputId": "938eace9-c77a-4437-d704-ea7cb2e2a86c"
      },
      "outputs": [
        {
          "data": {
            "text/plain": [
              "array([0.16489419, 0.36871462, 0.2331956 , 0.2331956 ])"
            ]
          },
          "execution_count": 34,
          "metadata": {},
          "output_type": "execute_result"
        }
      ],
      "source": [
        "prob / np.sum(prob)"
      ]
    },
    {
      "cell_type": "code",
      "execution_count": null,
      "metadata": {
        "id": "YeqvNCvbFtod"
      },
      "outputs": [],
      "source": [
        "import numpy as np\n",
        "\n",
        "p = np.abs(np.random.randn(28))\n",
        "p /= np.sum(p)\n"
      ]
    },
    {
      "cell_type": "code",
      "execution_count": null,
      "metadata": {
        "id": "O2XpxAqfFtod",
        "outputId": "663d724d-1875-4941-8aa9-31deee14867a"
      },
      "outputs": [
        {
          "data": {
            "image/png": "[encoded data removed]",
            "text/plain": [
              "<matplotlib.figure.Figure at 0x1821056080>"
            ]
          },
          "metadata": {},
          "output_type": "display_data"
        }
      ],
      "source": [
        "import matplotlib.pyplot as plt\n",
        "%matplotlib inline\n",
        "\n",
        "xticks = 'abcdefghijklmnopqrstuvwxyz,.'\n",
        "fig, ax = plt.subplots(figsize=(12, 5))\n",
        "plt.bar(np.arange(len(xticks)), p, tick_label=xticks)\n",
        "ax.set_xticklabels(xticks, fontsize=22)\n",
        "plt.yticks(fontsize=20)\n",
        "plt.show()\n",
        "fig.savefig('text_pred.pdf', format='pdf', dpi=1200)"
      ]
    },
    {
      "cell_type": "code",
      "execution_count": null,
      "metadata": {
        "id": "4omzAJZ8Ftod",
        "outputId": "05a1cd3c-3724-42f8-eb7a-6673d1dcc8bc"
      },
      "outputs": [
        {
          "ename": "TypeError",
          "evalue": "must be str, not int",
          "output_type": "error",
          "traceback": [
            "\u001b[0;31m---------------------------------------------------------------------------\u001b[0m",
            "\u001b[0;31mTypeError\u001b[0m                                 Traceback (most recent call last)",
            "\u001b[0;32m<ipython-input-54-43de92c34e64>\u001b[0m in \u001b[0;36m<module>\u001b[0;34m()\u001b[0m\n\u001b[0;32m----> 1\u001b[0;31m \u001b[0mstring1\u001b[0m \u001b[0;34m=\u001b[0m \u001b[0;34m'a'\u001b[0m\u001b[0;34m+\u001b[0m\u001b[0;36m1\u001b[0m\u001b[0;34m\u001b[0m\u001b[0m\n\u001b[0m",
            "\u001b[0;31mTypeError\u001b[0m: must be str, not int"
          ]
        }
      ],
      "source": []
    },
    {
      "cell_type": "code",
      "execution_count": null,
      "metadata": {
        "id": "ACCwdkswFtod",
        "outputId": "474a8526-6520-41d7-c04c-78decc375421"
      },
      "outputs": [
        {
          "data": {
            "image/png": "[encoded data removed]",
            "text/plain": [
              "<matplotlib.figure.Figure at 0x10f42d9e8>"
            ]
          },
          "metadata": {},
          "output_type": "display_data"
        }
      ],
      "source": [
        "import matplotlib.pyplot as plt\n",
        "import numpy as np\n",
        "%matplotlib inline\n",
        "\n",
        "xticks = 'abcdefghijklmnopqrstuvwxyz,.'\n",
        "fig, ax = plt.subplots(figsize=(12, 5))\n",
        "plt.bar(np.arange(len(xticks)), p, tick_label=xticks)\n",
        "ax.set_xticklabels(xticks, fontsize=22)\n",
        "plt.yticks(fontsize=20)\n",
        "plt.axis([-1, 28, 0, 0.62])\n",
        "plt.tight_layout()\n",
        "plt.show()\n",
        "fig.savefig('prob1.pdf', format='pdf', dpi=1200)"
      ]
    },
    {
      "cell_type": "code",
      "execution_count": null,
      "metadata": {
        "id": "m6SYun9wFtod",
        "outputId": "3dc7366c-db1a-4833-8350-d06e711af377"
      },
      "outputs": [
        {
          "data": {
            "image/png": "[encoded data removed]",
            "text/plain": [
              "<matplotlib.figure.Figure at 0x10fa1e4a8>"
            ]
          },
          "metadata": {},
          "output_type": "display_data"
        }
      ],
      "source": [
        "temperature = 0.2\n",
        "\n",
        "pred = p ** (1 / temperature)\n",
        "pred = pred / np.sum(pred)\n",
        "\n",
        "\n",
        "xticks = 'abcdefghijklmnopqrstuvwxyz,.'\n",
        "fig, ax = plt.subplots(figsize=(12, 5))\n",
        "plt.bar(np.arange(len(xticks)), pred, tick_label=xticks)\n",
        "ax.set_xticklabels(xticks, fontsize=22)\n",
        "plt.yticks(fontsize=20)\n",
        "plt.axis([-1, 28, 0, 0.62])\n",
        "plt.tight_layout()\n",
        "\n",
        "plt.show()\n",
        "fig.savefig('prob3.pdf', format='pdf', dpi=1200)"
      ]
    },
    {
      "cell_type": "code",
      "execution_count": null,
      "metadata": {
        "id": "g5MoqZrCFtod"
      },
      "outputs": [],
      "source": []
    }
  ],
  "metadata": {
    "kernelspec": {
      "display_name": "Python 3",
      "language": "python",
      "name": "python3"
    },
    "language_info": {
      "codemirror_mode": {
        "name": "ipython",
        "version": 3
      },
      "file_extension": ".py",
      "mimetype": "text/x-python",
      "name": "python",
      "nbconvert_exporter": "python",
      "pygments_lexer": "ipython3",
      "version": "3.6.4"
    },
    "colab": {
      "provenance": []
    }
  },
  "nbformat": 4,
  "nbformat_minor": 0
}