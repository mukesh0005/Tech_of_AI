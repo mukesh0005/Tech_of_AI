{
  "cells": [
    {
      "cell_type": "markdown",
      "metadata": {
        "id": "DjklDwHkJ0Hl"
      },
      "source": [
        "# Character-level recurrent sequence-to-sequence model\n",
        "\n",
        "**Author:** [fchollet](https://twitter.com/fchollet)<br>\n",
        "**Date created:** 2017/09/29<br>\n",
        "**Last modified:** 2023/11/22<br>\n",
        "**Description:** Character-level recurrent sequence-to-sequence model."
      ]
    },
    {
      "cell_type": "markdown",
      "metadata": {
        "id": "EjmiMYKGJ0Hp"
      },
      "source": [
        "## Introduction\n",
        "\n",
        "This example demonstrates how to implement a basic character-level\n",
        "recurrent sequence-to-sequence model. We apply it to translating\n",
        "short English sentences into short French sentences,\n",
        "character-by-character. Note that it is fairly unusual to\n",
        "do character-level machine translation, as word-level\n",
        "models are more common in this domain.\n",
        "\n",
        "**Summary of the algorithm**\n",
        "\n",
        "- We start with input sequences from a domain (e.g. English sentences)\n",
        "    and corresponding target sequences from another domain\n",
        "    (e.g. French sentences).\n",
        "- An encoder LSTM turns input sequences to 2 state vectors\n",
        "    (we keep the last LSTM state and discard the outputs).\n",
        "- A decoder LSTM is trained to turn the target sequences into\n",
        "    the same sequence but offset by one timestep in the future,\n",
        "    a training process called \"teacher forcing\" in this context.\n",
        "    It uses as initial state the state vectors from the encoder.\n",
        "    Effectively, the decoder learns to generate `targets[t+1...]`\n",
        "    given `targets[...t]`, conditioned on the input sequence.\n",
        "- In inference mode, when we want to decode unknown input sequences, we:\n",
        "    - Encode the input sequence into state vectors\n",
        "    - Start with a target sequence of size 1\n",
        "        (just the start-of-sequence character)\n",
        "    - Feed the state vectors and 1-char target sequence\n",
        "        to the decoder to produce predictions for the next character\n",
        "    - Sample the next character using these predictions\n",
        "        (we simply use argmax).\n",
        "    - Append the sampled character to the target sequence\n",
        "    - Repeat until we generate the end-of-sequence character or we\n",
        "        hit the character limit."
      ]
    },
    {
      "cell_type": "markdown",
      "metadata": {
        "id": "4dMCkWF3J0Hq"
      },
      "source": [
        "## Setup"
      ]
    },
    {
      "cell_type": "code",
      "execution_count": 1,
      "metadata": {
        "id": "fDbnWlhLJ0Hq"
      },
      "outputs": [
        {
          "name": "stdout",
          "output_type": "stream",
          "text": [
            "WARNING:tensorflow:From c:\\Users\\veera\\anaconda3\\envs\\DEV\\Lib\\site-packages\\keras\\src\\losses.py:2976: The name tf.losses.sparse_softmax_cross_entropy is deprecated. Please use tf.compat.v1.losses.sparse_softmax_cross_entropy instead.\n",
            "\n"
          ]
        }
      ],
      "source": [
        "import numpy as np\n",
        "import keras\n",
        "import os\n",
        "from pathlib import Path"
      ]
    },
    {
      "cell_type": "markdown",
      "metadata": {
        "id": "WrgiBmUHJ0Hs"
      },
      "source": [
        "## Download the data"
      ]
    },
    {
      "cell_type": "code",
      "execution_count": 17,
      "metadata": {
        "id": "vaBC-m8aJ0Hs"
      },
      "outputs": [],
      "source": [
        "fpath = './data/fra-eng.zip'\n",
        "dirpath = Path(fpath).parent.absolute()"
      ]
    },
    {
      "cell_type": "code",
      "execution_count": 18,
      "metadata": {},
      "outputs": [],
      "source": [
        "import zipfile\n",
        "with zipfile.ZipFile(fpath,'r') as zip_ref:\n",
        "    zip_ref.extractall(dirpath)"
      ]
    },
    {
      "cell_type": "markdown",
      "metadata": {
        "id": "RfpLQ_5GJ0Hs"
      },
      "source": [
        "## Configuration"
      ]
    },
    {
      "cell_type": "code",
      "execution_count": 19,
      "metadata": {
        "id": "ih4iat_AJ0Ht"
      },
      "outputs": [],
      "source": [
        "batch_size = 64  # Batch size for training.\n",
        "epochs = 100  # Number of epochs to train for.\n",
        "latent_dim = 256  # Latent dimensionality of the encoding space.\n",
        "num_samples = 10000  # Number of samples to train on.\n",
        "# Path to the data txt file on disk.\n",
        "data_path = os.path.join(dirpath, \"fra.txt\")"
      ]
    },
    {
      "cell_type": "markdown",
      "metadata": {
        "id": "25g_F4UmJ0Ht"
      },
      "source": [
        "## Prepare the data"
      ]
    },
    {
      "cell_type": "code",
      "execution_count": 26,
      "metadata": {
        "id": "uU7TwBr9J0Hu"
      },
      "outputs": [],
      "source": [
        "# Vectorize the data.\n",
        "input_texts = []\n",
        "target_texts = []\n",
        "input_characters = set()\n",
        "target_characters = set()\n",
        "with open(data_path, \"r\", encoding=\"utf-8\") as f:\n",
        "    lines = f.read().split(\"\\n\")\n",
        "for line in lines[: min(num_samples, len(lines) - 1)]:\n",
        "    input_text, target_text, _ = line.split(\"\\t\")\n",
        "    #print(input_text, target_text, _)\n",
        "    # We use \"tab\" as the \"start sequence\" character\n",
        "    # for the targets, and \"\\n\" as \"end sequence\" character.\n",
        "    target_text = \"\\t\" + target_text + \"\\n\"\n",
        "    input_texts.append(input_text)\n",
        "    target_texts.append(target_text)\n",
        "    for char in input_text:\n",
        "        if char not in input_characters:\n",
        "            input_characters.add(char)\n",
        "    for char in target_text:\n",
        "        if char not in target_characters:\n",
        "            target_characters.add(char)"
      ]
    },
    {
      "cell_type": "code",
      "execution_count": 30,
      "metadata": {},
      "outputs": [
        {
          "name": "stdout",
          "output_type": "stream",
          "text": [
            "Number of samples: 10000\n",
            "Number of unique input tokens: 70\n",
            "Number of unique output tokens: 93\n",
            "Max sequence length for inputs: 14\n",
            "Max sequence length for outputs: 59\n"
          ]
        }
      ],
      "source": [
        "\n",
        "input_characters = sorted(list(input_characters))\n",
        "target_characters = sorted(list(target_characters))\n",
        "num_encoder_tokens = len(input_characters)\n",
        "num_decoder_tokens = len(target_characters)\n",
        "max_encoder_seq_length = max([len(txt) for txt in input_texts])\n",
        "max_decoder_seq_length = max([len(txt) for txt in target_texts])\n",
        "\n",
        "print(\"Number of samples:\", len(input_texts))\n",
        "print(\"Number of unique input tokens:\", num_encoder_tokens)\n",
        "print(\"Number of unique output tokens:\", num_decoder_tokens)\n",
        "print(\"Max sequence length for inputs:\", max_encoder_seq_length)\n",
        "print(\"Max sequence length for outputs:\", max_decoder_seq_length)\n"
      ]
    },
    {
      "cell_type": "code",
      "execution_count": 31,
      "metadata": {},
      "outputs": [
        {
          "name": "stdout",
          "output_type": "stream",
          "text": [
            "0  \n",
            "1 !\n",
            "2 \"\n",
            "3 $\n",
            "4 %\n",
            "5 &\n",
            "6 '\n",
            "7 ,\n",
            "8 -\n",
            "9 .\n",
            "10 0\n",
            "11 1\n",
            "12 2\n",
            "13 3\n",
            "14 5\n",
            "15 7\n",
            "16 8\n",
            "17 9\n",
            "18 :\n",
            "19 ?\n",
            "20 A\n",
            "21 B\n",
            "22 C\n",
            "23 D\n",
            "24 E\n",
            "25 F\n",
            "26 G\n",
            "27 H\n",
            "28 I\n",
            "29 J\n",
            "30 K\n",
            "31 L\n",
            "32 M\n",
            "33 N\n",
            "34 O\n",
            "35 P\n",
            "36 Q\n",
            "37 R\n",
            "38 S\n",
            "39 T\n",
            "40 U\n",
            "41 V\n",
            "42 W\n",
            "43 Y\n",
            "44 a\n",
            "45 b\n",
            "46 c\n",
            "47 d\n",
            "48 e\n",
            "49 f\n",
            "50 g\n",
            "51 h\n",
            "52 i\n",
            "53 j\n",
            "54 k\n",
            "55 l\n",
            "56 m\n",
            "57 n\n",
            "58 o\n",
            "59 p\n",
            "60 q\n",
            "61 r\n",
            "62 s\n",
            "63 t\n",
            "64 u\n",
            "65 v\n",
            "66 w\n",
            "67 x\n",
            "68 y\n",
            "69 z\n"
          ]
        }
      ],
      "source": [
        "#for i, char in enumerate(input_characters):\n",
        "#    print(i,char)"
      ]
    },
    {
      "cell_type": "code",
      "execution_count": 36,
      "metadata": {},
      "outputs": [
        {
          "name": "stdout",
          "output_type": "stream",
          "text": [
            "(10000, 14, 70)\n",
            "(10000, 59, 93)\n",
            "(10000, 59, 93)\n"
          ]
        }
      ],
      "source": [
        "\n",
        "input_token_index = dict([(char, i) for i, char in enumerate(input_characters)])\n",
        "target_token_index = dict([(char, i) for i, char in enumerate(target_characters)])\n",
        "\n",
        "encoder_input_data = np.zeros(\n",
        "    (len(input_texts), max_encoder_seq_length, num_encoder_tokens),\n",
        "    dtype=\"float32\",\n",
        ")\n",
        "decoder_input_data = np.zeros(\n",
        "    (len(input_texts), max_decoder_seq_length, num_decoder_tokens),\n",
        "    dtype=\"float32\",\n",
        ")\n",
        "decoder_target_data = np.zeros(\n",
        "    (len(input_texts), max_decoder_seq_length, num_decoder_tokens),\n",
        "    dtype=\"float32\",\n",
        ")\n",
        "print(encoder_input_data.shape)\n",
        "print(decoder_input_data.shape)\n",
        "print(decoder_target_data.shape)"
      ]
    },
    {
      "cell_type": "code",
      "execution_count": 37,
      "metadata": {},
      "outputs": [],
      "source": [
        "for i, (input_text, target_text) in enumerate(zip(input_texts, target_texts)):\n",
        "    for t, char in enumerate(input_text):\n",
        "        encoder_input_data[i, t, input_token_index[char]] = 1.0\n",
        "    encoder_input_data[i, t + 1 :, input_token_index[\" \"]] = 1.0\n",
        "    for t, char in enumerate(target_text):\n",
        "        # decoder_target_data is ahead of decoder_input_data by one timestep\n",
        "        decoder_input_data[i, t, target_token_index[char]] = 1.0\n",
        "        if t > 0:\n",
        "            # decoder_target_data will be ahead by one timestep\n",
        "            # and will not include the start character.\n",
        "            decoder_target_data[i, t - 1, target_token_index[char]] = 1.0\n",
        "    decoder_input_data[i, t + 1 :, target_token_index[\" \"]] = 1.0\n",
        "    decoder_target_data[i, t:, target_token_index[\" \"]] = 1.0"
      ]
    },
    {
      "cell_type": "markdown",
      "metadata": {
        "id": "Ix8lUlpBJ0Hu"
      },
      "source": [
        "## Build the model"
      ]
    },
    {
      "cell_type": "code",
      "execution_count": 38,
      "metadata": {
        "id": "Z_ktXinqJ0Hu"
      },
      "outputs": [
        {
          "name": "stdout",
          "output_type": "stream",
          "text": [
            "WARNING:tensorflow:From c:\\Users\\veera\\anaconda3\\envs\\DEV\\Lib\\site-packages\\keras\\src\\backend.py:1398: The name tf.executing_eagerly_outside_functions is deprecated. Please use tf.compat.v1.executing_eagerly_outside_functions instead.\n",
            "\n"
          ]
        }
      ],
      "source": [
        "# Define an input sequence and process it.\n",
        "encoder_inputs = keras.Input(shape=(None, num_encoder_tokens))\n",
        "encoder = keras.layers.LSTM(latent_dim, return_state=True)\n",
        "encoder_outputs, state_h, state_c = encoder(encoder_inputs)\n",
        "\n",
        "# We discard `encoder_outputs` and only keep the states.\n",
        "encoder_states = [state_h, state_c]\n",
        "\n",
        "# Set up the decoder, using `encoder_states` as initial state.\n",
        "decoder_inputs = keras.Input(shape=(None, num_decoder_tokens))\n",
        "\n",
        "# We set up our decoder to return full output sequences,\n",
        "# and to return internal states as well. We don't use the\n",
        "# return states in the training model, but we will use them in inference.\n",
        "decoder_lstm = keras.layers.LSTM(latent_dim, return_sequences=True, return_state=True)\n",
        "decoder_outputs, _, _ = decoder_lstm(decoder_inputs, initial_state=encoder_states)\n",
        "decoder_dense = keras.layers.Dense(num_decoder_tokens, activation=\"softmax\")\n",
        "decoder_outputs = decoder_dense(decoder_outputs)\n",
        "\n",
        "# Define the model that will turn\n",
        "# `encoder_input_data` & `decoder_input_data` into `decoder_target_data`\n",
        "model = keras.Model([encoder_inputs, decoder_inputs], decoder_outputs)"
      ]
    },
    {
      "cell_type": "code",
      "execution_count": null,
      "metadata": {},
      "outputs": [],
      "source": [
        "keras.Input(shape=(None, num_encoder_tokens)) # encoder input\n",
        "keras.layers.LSTM(latent_dim, return_state=True) # encoder \n",
        "keras.Input(shape=(None, num_decoder_tokens)) # decoder input\n",
        "keras.layers.LSTM(latent_dim, return_sequences=True, return_state=True) # decoder \n",
        "keras.layers.Dense(num_decoder_tokens, activation=\"softmax\") # decoder output"
      ]
    },
    {
      "cell_type": "markdown",
      "metadata": {
        "id": "0IRtHqVNJ0Hv"
      },
      "source": [
        "## Train the model"
      ]
    },
    {
      "cell_type": "code",
      "execution_count": 39,
      "metadata": {
        "id": "ztn3_GelJ0Hv"
      },
      "outputs": [
        {
          "name": "stdout",
          "output_type": "stream",
          "text": [
            "WARNING:tensorflow:From c:\\Users\\veera\\anaconda3\\envs\\DEV\\Lib\\site-packages\\keras\\src\\optimizers\\__init__.py:309: The name tf.train.Optimizer is deprecated. Please use tf.compat.v1.train.Optimizer instead.\n",
            "\n",
            "Epoch 1/100\n",
            "WARNING:tensorflow:From c:\\Users\\veera\\anaconda3\\envs\\DEV\\Lib\\site-packages\\keras\\src\\utils\\tf_utils.py:492: The name tf.ragged.RaggedTensorValue is deprecated. Please use tf.compat.v1.ragged.RaggedTensorValue instead.\n",
            "\n",
            "WARNING:tensorflow:From c:\\Users\\veera\\anaconda3\\envs\\DEV\\Lib\\site-packages\\keras\\src\\engine\\base_layer_utils.py:384: The name tf.executing_eagerly_outside_functions is deprecated. Please use tf.compat.v1.executing_eagerly_outside_functions instead.\n",
            "\n",
            "125/125 [==============================] - 19s 122ms/step - loss: 1.2036 - accuracy: 0.7338 - val_loss: 1.0822 - val_accuracy: 0.7131\n",
            "Epoch 2/100\n",
            "125/125 [==============================] - 14s 112ms/step - loss: 0.9288 - accuracy: 0.7494 - val_loss: 0.9616 - val_accuracy: 0.7242\n",
            "Epoch 3/100\n",
            "125/125 [==============================] - 14s 111ms/step - loss: 0.8432 - accuracy: 0.7675 - val_loss: 0.8731 - val_accuracy: 0.7497\n",
            "Epoch 4/100\n",
            "125/125 [==============================] - 14s 111ms/step - loss: 0.7507 - accuracy: 0.7894 - val_loss: 0.7886 - val_accuracy: 0.7721\n",
            "Epoch 5/100\n",
            "125/125 [==============================] - 14s 109ms/step - loss: 0.6721 - accuracy: 0.8067 - val_loss: 0.7135 - val_accuracy: 0.7945\n",
            "Epoch 6/100\n",
            "125/125 [==============================] - 14s 114ms/step - loss: 0.6301 - accuracy: 0.8169 - val_loss: 0.6796 - val_accuracy: 0.8036\n",
            "Epoch 7/100\n",
            "125/125 [==============================] - 16s 127ms/step - loss: 0.6017 - accuracy: 0.8240 - val_loss: 0.6600 - val_accuracy: 0.8070\n",
            "Epoch 8/100\n",
            "125/125 [==============================] - 14s 114ms/step - loss: 0.5797 - accuracy: 0.8297 - val_loss: 0.6385 - val_accuracy: 0.8138\n",
            "Epoch 9/100\n",
            "125/125 [==============================] - 14s 110ms/step - loss: 0.5595 - accuracy: 0.8358 - val_loss: 0.6292 - val_accuracy: 0.8198\n",
            "Epoch 10/100\n",
            "125/125 [==============================] - 14s 110ms/step - loss: 0.5419 - accuracy: 0.8410 - val_loss: 0.6092 - val_accuracy: 0.8228\n",
            "Epoch 11/100\n",
            "125/125 [==============================] - 14s 111ms/step - loss: 0.5263 - accuracy: 0.8462 - val_loss: 0.5884 - val_accuracy: 0.8278\n",
            "Epoch 12/100\n",
            "125/125 [==============================] - 14s 111ms/step - loss: 0.5107 - accuracy: 0.8503 - val_loss: 0.5743 - val_accuracy: 0.8325\n",
            "Epoch 13/100\n",
            "125/125 [==============================] - 14s 111ms/step - loss: 0.4980 - accuracy: 0.8543 - val_loss: 0.5611 - val_accuracy: 0.8383\n",
            "Epoch 14/100\n",
            "125/125 [==============================] - 14s 111ms/step - loss: 0.4839 - accuracy: 0.8579 - val_loss: 0.5474 - val_accuracy: 0.8412\n",
            "Epoch 15/100\n",
            "125/125 [==============================] - 14s 112ms/step - loss: 0.4725 - accuracy: 0.8612 - val_loss: 0.5421 - val_accuracy: 0.8411\n",
            "Epoch 16/100\n",
            "125/125 [==============================] - 14s 111ms/step - loss: 0.4616 - accuracy: 0.8640 - val_loss: 0.5330 - val_accuracy: 0.8439\n",
            "Epoch 17/100\n",
            "125/125 [==============================] - 14s 112ms/step - loss: 0.4519 - accuracy: 0.8670 - val_loss: 0.5235 - val_accuracy: 0.8469\n",
            "Epoch 18/100\n",
            "125/125 [==============================] - 14s 113ms/step - loss: 0.4425 - accuracy: 0.8694 - val_loss: 0.5129 - val_accuracy: 0.8502\n",
            "Epoch 19/100\n",
            "125/125 [==============================] - 14s 113ms/step - loss: 0.4342 - accuracy: 0.8716 - val_loss: 0.5120 - val_accuracy: 0.8499\n",
            "Epoch 20/100\n",
            "125/125 [==============================] - 14s 113ms/step - loss: 0.4257 - accuracy: 0.8738 - val_loss: 0.5043 - val_accuracy: 0.8528\n",
            "Epoch 21/100\n",
            "125/125 [==============================] - 14s 114ms/step - loss: 0.4183 - accuracy: 0.8760 - val_loss: 0.4972 - val_accuracy: 0.8528\n",
            "Epoch 22/100\n",
            "125/125 [==============================] - 14s 113ms/step - loss: 0.4110 - accuracy: 0.8778 - val_loss: 0.4910 - val_accuracy: 0.8555\n",
            "Epoch 23/100\n",
            "125/125 [==============================] - 14s 114ms/step - loss: 0.4038 - accuracy: 0.8797 - val_loss: 0.4833 - val_accuracy: 0.8579\n",
            "Epoch 24/100\n",
            "125/125 [==============================] - 14s 115ms/step - loss: 0.3973 - accuracy: 0.8816 - val_loss: 0.4810 - val_accuracy: 0.8582\n",
            "Epoch 25/100\n",
            "125/125 [==============================] - 17s 133ms/step - loss: 0.3907 - accuracy: 0.8836 - val_loss: 0.4764 - val_accuracy: 0.8600\n",
            "Epoch 26/100\n",
            "125/125 [==============================] - 16s 131ms/step - loss: 0.3845 - accuracy: 0.8853 - val_loss: 0.4699 - val_accuracy: 0.8622\n",
            "Epoch 27/100\n",
            "125/125 [==============================] - 14s 115ms/step - loss: 0.3791 - accuracy: 0.8868 - val_loss: 0.4671 - val_accuracy: 0.8628\n",
            "Epoch 28/100\n",
            "125/125 [==============================] - 14s 114ms/step - loss: 0.3733 - accuracy: 0.8886 - val_loss: 0.4622 - val_accuracy: 0.8634\n",
            "Epoch 29/100\n",
            "125/125 [==============================] - 16s 131ms/step - loss: 0.3673 - accuracy: 0.8903 - val_loss: 0.4626 - val_accuracy: 0.8633\n",
            "Epoch 30/100\n",
            "125/125 [==============================] - 17s 137ms/step - loss: 0.3622 - accuracy: 0.8915 - val_loss: 0.4631 - val_accuracy: 0.8635\n",
            "Epoch 31/100\n",
            "125/125 [==============================] - 16s 129ms/step - loss: 0.3572 - accuracy: 0.8934 - val_loss: 0.4601 - val_accuracy: 0.8647\n",
            "Epoch 32/100\n",
            "125/125 [==============================] - 16s 131ms/step - loss: 0.3519 - accuracy: 0.8945 - val_loss: 0.4534 - val_accuracy: 0.8662\n",
            "Epoch 33/100\n",
            "125/125 [==============================] - 19s 148ms/step - loss: 0.3468 - accuracy: 0.8961 - val_loss: 0.4517 - val_accuracy: 0.8671\n",
            "Epoch 34/100\n",
            "125/125 [==============================] - 17s 136ms/step - loss: 0.3418 - accuracy: 0.8978 - val_loss: 0.4501 - val_accuracy: 0.8684\n",
            "Epoch 35/100\n",
            "125/125 [==============================] - 17s 136ms/step - loss: 0.3373 - accuracy: 0.8991 - val_loss: 0.4482 - val_accuracy: 0.8677\n",
            "Epoch 36/100\n",
            "125/125 [==============================] - 17s 134ms/step - loss: 0.3320 - accuracy: 0.9004 - val_loss: 0.4448 - val_accuracy: 0.8697\n",
            "Epoch 37/100\n",
            "125/125 [==============================] - 17s 135ms/step - loss: 0.3273 - accuracy: 0.9020 - val_loss: 0.4432 - val_accuracy: 0.8702\n",
            "Epoch 38/100\n",
            "125/125 [==============================] - 17s 139ms/step - loss: 0.3231 - accuracy: 0.9033 - val_loss: 0.4425 - val_accuracy: 0.8709\n",
            "Epoch 39/100\n",
            "125/125 [==============================] - 17s 139ms/step - loss: 0.3185 - accuracy: 0.9047 - val_loss: 0.4424 - val_accuracy: 0.8710\n",
            "Epoch 40/100\n",
            "125/125 [==============================] - 17s 135ms/step - loss: 0.3147 - accuracy: 0.9057 - val_loss: 0.4410 - val_accuracy: 0.8720\n",
            "Epoch 41/100\n",
            "125/125 [==============================] - 17s 132ms/step - loss: 0.3103 - accuracy: 0.9072 - val_loss: 0.4397 - val_accuracy: 0.8721\n",
            "Epoch 42/100\n",
            "125/125 [==============================] - 16s 131ms/step - loss: 0.3055 - accuracy: 0.9087 - val_loss: 0.4443 - val_accuracy: 0.8711\n",
            "Epoch 43/100\n",
            "125/125 [==============================] - 16s 131ms/step - loss: 0.3015 - accuracy: 0.9096 - val_loss: 0.4382 - val_accuracy: 0.8730\n",
            "Epoch 44/100\n",
            "125/125 [==============================] - 17s 135ms/step - loss: 0.2973 - accuracy: 0.9111 - val_loss: 0.4385 - val_accuracy: 0.8733\n",
            "Epoch 45/100\n",
            "125/125 [==============================] - 16s 132ms/step - loss: 0.2938 - accuracy: 0.9121 - val_loss: 0.4409 - val_accuracy: 0.8732\n",
            "Epoch 46/100\n",
            "125/125 [==============================] - 16s 132ms/step - loss: 0.2899 - accuracy: 0.9132 - val_loss: 0.4352 - val_accuracy: 0.8742\n",
            "Epoch 47/100\n",
            "125/125 [==============================] - 3937s 32s/step - loss: 0.2859 - accuracy: 0.9145 - val_loss: 0.4388 - val_accuracy: 0.8736\n",
            "Epoch 48/100\n",
            "125/125 [==============================] - 15s 116ms/step - loss: 0.2821 - accuracy: 0.9154 - val_loss: 0.4381 - val_accuracy: 0.8738\n",
            "Epoch 49/100\n",
            "125/125 [==============================] - 15s 121ms/step - loss: 0.2782 - accuracy: 0.9168 - val_loss: 0.4372 - val_accuracy: 0.8751\n",
            "Epoch 50/100\n",
            "125/125 [==============================] - 15s 118ms/step - loss: 0.2748 - accuracy: 0.9177 - val_loss: 0.4383 - val_accuracy: 0.8751\n",
            "Epoch 51/100\n",
            "125/125 [==============================] - 14s 115ms/step - loss: 0.2711 - accuracy: 0.9189 - val_loss: 0.4362 - val_accuracy: 0.8757\n",
            "Epoch 52/100\n",
            "125/125 [==============================] - 14s 115ms/step - loss: 0.2674 - accuracy: 0.9199 - val_loss: 0.4382 - val_accuracy: 0.8752\n",
            "Epoch 53/100\n",
            "125/125 [==============================] - 14s 113ms/step - loss: 0.2633 - accuracy: 0.9213 - val_loss: 0.4353 - val_accuracy: 0.8773\n",
            "Epoch 54/100\n",
            "125/125 [==============================] - 14s 114ms/step - loss: 0.2603 - accuracy: 0.9223 - val_loss: 0.4409 - val_accuracy: 0.8755\n",
            "Epoch 55/100\n",
            "125/125 [==============================] - 14s 115ms/step - loss: 0.2566 - accuracy: 0.9231 - val_loss: 0.4372 - val_accuracy: 0.8769\n",
            "Epoch 56/100\n",
            "125/125 [==============================] - 13s 108ms/step - loss: 0.2535 - accuracy: 0.9239 - val_loss: 0.4421 - val_accuracy: 0.8754\n",
            "Epoch 57/100\n",
            "125/125 [==============================] - 13s 106ms/step - loss: 0.2500 - accuracy: 0.9250 - val_loss: 0.4396 - val_accuracy: 0.8769\n",
            "Epoch 58/100\n",
            "125/125 [==============================] - 13s 106ms/step - loss: 0.2468 - accuracy: 0.9260 - val_loss: 0.4404 - val_accuracy: 0.8773\n",
            "Epoch 59/100\n",
            "125/125 [==============================] - 14s 111ms/step - loss: 0.2437 - accuracy: 0.9269 - val_loss: 0.4382 - val_accuracy: 0.8780\n",
            "Epoch 60/100\n",
            "125/125 [==============================] - 13s 107ms/step - loss: 0.2405 - accuracy: 0.9277 - val_loss: 0.4425 - val_accuracy: 0.8776\n",
            "Epoch 61/100\n",
            "125/125 [==============================] - 13s 107ms/step - loss: 0.2373 - accuracy: 0.9289 - val_loss: 0.4432 - val_accuracy: 0.8774\n",
            "Epoch 62/100\n",
            "125/125 [==============================] - 13s 107ms/step - loss: 0.2344 - accuracy: 0.9298 - val_loss: 0.4436 - val_accuracy: 0.8775\n",
            "Epoch 63/100\n",
            "125/125 [==============================] - 13s 107ms/step - loss: 0.2314 - accuracy: 0.9305 - val_loss: 0.4430 - val_accuracy: 0.8780\n",
            "Epoch 64/100\n",
            "125/125 [==============================] - 13s 108ms/step - loss: 0.2281 - accuracy: 0.9315 - val_loss: 0.4444 - val_accuracy: 0.8776\n",
            "Epoch 65/100\n",
            "125/125 [==============================] - 13s 107ms/step - loss: 0.2257 - accuracy: 0.9323 - val_loss: 0.4441 - val_accuracy: 0.8782\n",
            "Epoch 66/100\n",
            "125/125 [==============================] - 13s 107ms/step - loss: 0.2227 - accuracy: 0.9332 - val_loss: 0.4512 - val_accuracy: 0.8768\n",
            "Epoch 67/100\n",
            "125/125 [==============================] - 13s 106ms/step - loss: 0.2194 - accuracy: 0.9340 - val_loss: 0.4501 - val_accuracy: 0.8771\n",
            "Epoch 68/100\n",
            "125/125 [==============================] - 13s 106ms/step - loss: 0.2164 - accuracy: 0.9350 - val_loss: 0.4478 - val_accuracy: 0.8786\n",
            "Epoch 69/100\n",
            "125/125 [==============================] - 13s 107ms/step - loss: 0.2135 - accuracy: 0.9361 - val_loss: 0.4539 - val_accuracy: 0.8773\n",
            "Epoch 70/100\n",
            "125/125 [==============================] - 13s 107ms/step - loss: 0.2114 - accuracy: 0.9364 - val_loss: 0.4601 - val_accuracy: 0.8756\n",
            "Epoch 71/100\n",
            "125/125 [==============================] - 13s 107ms/step - loss: 0.2083 - accuracy: 0.9373 - val_loss: 0.4542 - val_accuracy: 0.8784\n",
            "Epoch 72/100\n",
            "125/125 [==============================] - 13s 107ms/step - loss: 0.2060 - accuracy: 0.9382 - val_loss: 0.4539 - val_accuracy: 0.8784\n",
            "Epoch 73/100\n",
            "125/125 [==============================] - 13s 107ms/step - loss: 0.2027 - accuracy: 0.9389 - val_loss: 0.4578 - val_accuracy: 0.8775\n",
            "Epoch 74/100\n",
            "125/125 [==============================] - 13s 107ms/step - loss: 0.2004 - accuracy: 0.9394 - val_loss: 0.4560 - val_accuracy: 0.8789\n",
            "Epoch 75/100\n",
            "125/125 [==============================] - 13s 107ms/step - loss: 0.1979 - accuracy: 0.9403 - val_loss: 0.4662 - val_accuracy: 0.8774\n",
            "Epoch 76/100\n",
            "125/125 [==============================] - 13s 107ms/step - loss: 0.1955 - accuracy: 0.9411 - val_loss: 0.4602 - val_accuracy: 0.8786\n",
            "Epoch 77/100\n",
            "125/125 [==============================] - 13s 107ms/step - loss: 0.1924 - accuracy: 0.9423 - val_loss: 0.4672 - val_accuracy: 0.8776\n",
            "Epoch 78/100\n",
            "125/125 [==============================] - 13s 108ms/step - loss: 0.1906 - accuracy: 0.9425 - val_loss: 0.4657 - val_accuracy: 0.8780\n",
            "Epoch 79/100\n",
            "125/125 [==============================] - 13s 107ms/step - loss: 0.1880 - accuracy: 0.9432 - val_loss: 0.4683 - val_accuracy: 0.8779\n",
            "Epoch 80/100\n",
            "125/125 [==============================] - 13s 107ms/step - loss: 0.1853 - accuracy: 0.9441 - val_loss: 0.4735 - val_accuracy: 0.8776\n",
            "Epoch 81/100\n",
            "125/125 [==============================] - 13s 107ms/step - loss: 0.1832 - accuracy: 0.9448 - val_loss: 0.4728 - val_accuracy: 0.8775\n",
            "Epoch 82/100\n",
            "125/125 [==============================] - 13s 107ms/step - loss: 0.1813 - accuracy: 0.9452 - val_loss: 0.4731 - val_accuracy: 0.8780\n",
            "Epoch 83/100\n",
            "125/125 [==============================] - 13s 108ms/step - loss: 0.1785 - accuracy: 0.9461 - val_loss: 0.4750 - val_accuracy: 0.8784\n",
            "Epoch 84/100\n",
            "125/125 [==============================] - 14s 108ms/step - loss: 0.1768 - accuracy: 0.9465 - val_loss: 0.4777 - val_accuracy: 0.8777\n",
            "Epoch 85/100\n",
            "125/125 [==============================] - 14s 110ms/step - loss: 0.1745 - accuracy: 0.9472 - val_loss: 0.4859 - val_accuracy: 0.8768\n",
            "Epoch 86/100\n",
            "125/125 [==============================] - 14s 110ms/step - loss: 0.1721 - accuracy: 0.9481 - val_loss: 0.4853 - val_accuracy: 0.8770\n",
            "Epoch 87/100\n",
            "125/125 [==============================] - 14s 111ms/step - loss: 0.1702 - accuracy: 0.9485 - val_loss: 0.4851 - val_accuracy: 0.8771\n",
            "Epoch 88/100\n",
            "125/125 [==============================] - 14s 111ms/step - loss: 0.1680 - accuracy: 0.9493 - val_loss: 0.4821 - val_accuracy: 0.8787\n",
            "Epoch 89/100\n",
            "125/125 [==============================] - 14s 109ms/step - loss: 0.1656 - accuracy: 0.9498 - val_loss: 0.4901 - val_accuracy: 0.8776\n",
            "Epoch 90/100\n",
            "125/125 [==============================] - 14s 109ms/step - loss: 0.1636 - accuracy: 0.9507 - val_loss: 0.4936 - val_accuracy: 0.8763\n",
            "Epoch 91/100\n",
            "125/125 [==============================] - 14s 109ms/step - loss: 0.1615 - accuracy: 0.9510 - val_loss: 0.4928 - val_accuracy: 0.8782\n",
            "Epoch 92/100\n",
            "125/125 [==============================] - 13s 107ms/step - loss: 0.1605 - accuracy: 0.9514 - val_loss: 0.4956 - val_accuracy: 0.8782\n",
            "Epoch 93/100\n",
            "125/125 [==============================] - 13s 107ms/step - loss: 0.1581 - accuracy: 0.9522 - val_loss: 0.5013 - val_accuracy: 0.8769\n",
            "Epoch 94/100\n",
            "125/125 [==============================] - 13s 107ms/step - loss: 0.1559 - accuracy: 0.9527 - val_loss: 0.5013 - val_accuracy: 0.8768\n",
            "Epoch 95/100\n",
            "125/125 [==============================] - 13s 107ms/step - loss: 0.1542 - accuracy: 0.9532 - val_loss: 0.4987 - val_accuracy: 0.8778\n",
            "Epoch 96/100\n",
            "125/125 [==============================] - 14s 108ms/step - loss: 0.1526 - accuracy: 0.9536 - val_loss: 0.5052 - val_accuracy: 0.8764\n",
            "Epoch 97/100\n",
            "125/125 [==============================] - 14s 110ms/step - loss: 0.1507 - accuracy: 0.9543 - val_loss: 0.5056 - val_accuracy: 0.8774\n",
            "Epoch 98/100\n",
            "125/125 [==============================] - 15s 119ms/step - loss: 0.1487 - accuracy: 0.9545 - val_loss: 0.5094 - val_accuracy: 0.8767\n",
            "Epoch 99/100\n",
            "125/125 [==============================] - 14s 109ms/step - loss: 0.1474 - accuracy: 0.9553 - val_loss: 0.5106 - val_accuracy: 0.8770\n",
            "Epoch 100/100\n",
            "125/125 [==============================] - 14s 109ms/step - loss: 0.1453 - accuracy: 0.9556 - val_loss: 0.5110 - val_accuracy: 0.8769\n"
          ]
        }
      ],
      "source": [
        "model.compile(\n",
        "    optimizer=\"rmsprop\", loss=\"categorical_crossentropy\", metrics=[\"accuracy\"]\n",
        ")\n",
        "model.fit(\n",
        "    [encoder_input_data, decoder_input_data],\n",
        "    decoder_target_data,\n",
        "    batch_size=batch_size,\n",
        "    epochs=epochs,\n",
        "    validation_split=0.2,\n",
        ")\n",
        "# Save model\n",
        "model.save(\"s2s_model.keras\")"
      ]
    },
    {
      "cell_type": "markdown",
      "metadata": {
        "id": "Hrd8pJyEJ0Hv"
      },
      "source": [
        "## Run inference (sampling)\n",
        "\n",
        "1. encode input and retrieve initial decoder state\n",
        "2. run one step of decoder with this initial state\n",
        "and a \"start of sequence\" token as target.\n",
        "Output will be the next target token.\n",
        "3. Repeat with the current target token and current states"
      ]
    },
    {
      "cell_type": "code",
      "execution_count": 40,
      "metadata": {
        "id": "FDLggKgYJ0Hv"
      },
      "outputs": [],
      "source": [
        "# Define sampling models\n",
        "# Restore the model and construct the encoder and decoder.\n",
        "model = keras.models.load_model(\"s2s_model.keras\")\n",
        "\n",
        "encoder_inputs = model.input[0]  # input_1 # keras.Input(shape=(None, num_encoder_tokens)) # encoder input\n",
        "encoder_outputs, state_h_enc, state_c_enc = model.layers[2].output  # lstm_1\n",
        "encoder_states = [state_h_enc, state_c_enc]\n",
        "encoder_model = keras.Model(encoder_inputs, encoder_states)\n",
        "\n",
        "decoder_inputs = model.input[1]  # input_2\n",
        "decoder_state_input_h = keras.Input(shape=(latent_dim,))\n",
        "decoder_state_input_c = keras.Input(shape=(latent_dim,))\n",
        "decoder_states_inputs = [decoder_state_input_h, decoder_state_input_c]\n",
        "decoder_lstm = model.layers[3]\n",
        "decoder_outputs, state_h_dec, state_c_dec = decoder_lstm(\n",
        "    decoder_inputs, initial_state=decoder_states_inputs\n",
        ")\n",
        "decoder_states = [state_h_dec, state_c_dec]\n",
        "decoder_dense = model.layers[4]\n",
        "decoder_outputs = decoder_dense(decoder_outputs)\n",
        "decoder_model = keras.Model(\n",
        "    [decoder_inputs] + decoder_states_inputs, [decoder_outputs] + decoder_states\n",
        ")\n",
        "\n",
        "# Reverse-lookup token index to decode sequences back to\n",
        "# something readable.\n",
        "reverse_input_char_index = dict((i, char) for char, i in input_token_index.items())\n",
        "reverse_target_char_index = dict((i, char) for char, i in target_token_index.items())"
      ]
    },
    {
      "cell_type": "code",
      "execution_count": 41,
      "metadata": {},
      "outputs": [],
      "source": [
        "\n",
        "def decode_sequence(input_seq):\n",
        "    # Encode the input as state vectors.\n",
        "    states_value = encoder_model.predict(input_seq, verbose=0)\n",
        "\n",
        "    # Generate empty target sequence of length 1.\n",
        "    target_seq = np.zeros((1, 1, num_decoder_tokens))\n",
        "    # Populate the first character of target sequence with the start character.\n",
        "    target_seq[0, 0, target_token_index[\"\\t\"]] = 1.0\n",
        "\n",
        "    # Sampling loop for a batch of sequences\n",
        "    # (to simplify, here we assume a batch of size 1).\n",
        "    stop_condition = False\n",
        "    decoded_sentence = \"\"\n",
        "    while not stop_condition:\n",
        "        output_tokens, h, c = decoder_model.predict(\n",
        "            [target_seq] + states_value, verbose=0\n",
        "        )\n",
        "\n",
        "        # Sample a token\n",
        "        sampled_token_index = np.argmax(output_tokens[0, -1, :])\n",
        "        sampled_char = reverse_target_char_index[sampled_token_index]\n",
        "        decoded_sentence += sampled_char\n",
        "\n",
        "        # Exit condition: either hit max length\n",
        "        # or find stop character.\n",
        "        if sampled_char == \"\\n\" or len(decoded_sentence) > max_decoder_seq_length:\n",
        "            stop_condition = True\n",
        "\n",
        "        # Update the target sequence (of length 1).\n",
        "        target_seq = np.zeros((1, 1, num_decoder_tokens))\n",
        "        target_seq[0, 0, sampled_token_index] = 1.0\n",
        "\n",
        "        # Update states\n",
        "        states_value = [h, c]\n",
        "    return decoded_sentence\n"
      ]
    },
    {
      "cell_type": "markdown",
      "metadata": {
        "id": "ioMSks47J0Hw"
      },
      "source": [
        "You can now generate decoded sentences as such:"
      ]
    },
    {
      "cell_type": "code",
      "execution_count": 42,
      "metadata": {
        "id": "m672aKFnJ0Hw"
      },
      "outputs": [
        {
          "name": "stdout",
          "output_type": "stream",
          "text": [
            "-\n",
            "Input sentence: Go.\n",
            "Decoded sentence: Coutez !\n",
            "\n",
            "-\n",
            "Input sentence: Go.\n",
            "Decoded sentence: Coutez !\n",
            "\n",
            "-\n",
            "Input sentence: Go.\n",
            "Decoded sentence: Coutez !\n",
            "\n",
            "-\n",
            "Input sentence: Go.\n",
            "Decoded sentence: Coutez !\n",
            "\n",
            "-\n",
            "Input sentence: Hi.\n",
            "Decoded sentence: Salut.\n",
            "\n",
            "-\n",
            "Input sentence: Hi.\n",
            "Decoded sentence: Salut.\n",
            "\n",
            "-\n",
            "Input sentence: Run!\n",
            "Decoded sentence: Cours !\n",
            "\n",
            "-\n",
            "Input sentence: Run!\n",
            "Decoded sentence: Cours !\n",
            "\n",
            "-\n",
            "Input sentence: Run!\n",
            "Decoded sentence: Cours !\n",
            "\n",
            "-\n",
            "Input sentence: Run!\n",
            "Decoded sentence: Cours !\n",
            "\n",
            "-\n",
            "Input sentence: Run!\n",
            "Decoded sentence: Cours !\n",
            "\n",
            "-\n",
            "Input sentence: Run!\n",
            "Decoded sentence: Cours !\n",
            "\n",
            "-\n",
            "Input sentence: Run!\n",
            "Decoded sentence: Cours !\n",
            "\n",
            "-\n",
            "Input sentence: Run!\n",
            "Decoded sentence: Cours !\n",
            "\n",
            "-\n",
            "Input sentence: Run.\n",
            "Decoded sentence: Fuyez !\n",
            "\n",
            "-\n",
            "Input sentence: Run.\n",
            "Decoded sentence: Fuyez !\n",
            "\n",
            "-\n",
            "Input sentence: Run.\n",
            "Decoded sentence: Fuyez !\n",
            "\n",
            "-\n",
            "Input sentence: Run.\n",
            "Decoded sentence: Fuyez !\n",
            "\n",
            "-\n",
            "Input sentence: Run.\n",
            "Decoded sentence: Fuyez !\n",
            "\n",
            "-\n",
            "Input sentence: Run.\n",
            "Decoded sentence: Fuyez !\n",
            "\n"
          ]
        }
      ],
      "source": [
        "for seq_index in range(20):\n",
        "    # Take one sequence (part of the training set)\n",
        "    # for trying out decoding.\n",
        "    input_seq = encoder_input_data[seq_index : seq_index + 1]\n",
        "    decoded_sentence = decode_sequence(input_seq)\n",
        "    print(\"-\")\n",
        "    print(\"Input sentence:\", input_texts[seq_index])\n",
        "    print(\"Decoded sentence:\", decoded_sentence)"
      ]
    }
  ],
  "metadata": {
    "accelerator": "GPU",
    "colab": {
      "name": "lstm_seq2seq",
      "provenance": [],
      "toc_visible": true
    },
    "kernelspec": {
      "display_name": "Python 3",
      "language": "python",
      "name": "python3"
    },
    "language_info": {
      "codemirror_mode": {
        "name": "ipython",
        "version": 3
      },
      "file_extension": ".py",
      "mimetype": "text/x-python",
      "name": "python",
      "nbconvert_exporter": "python",
      "pygments_lexer": "ipython3",
      "version": "3.11.5"
    }
  },
  "nbformat": 4,
  "nbformat_minor": 0
}
