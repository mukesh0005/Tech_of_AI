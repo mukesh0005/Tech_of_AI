{
  "cells": [
    {
      "cell_type": "markdown",
      "metadata": {
        "id": "2hnQk-5aEZEP"
      },
      "source": [
        "# 1. Download the IMDB dataset\n",
        "\n",
        "Download the data from http://ai.stanford.edu/~amaas/data/sentiment/ or http://s3.amazonaws.com/text-datasets/aclImdb.zip"
      ]
    },
    {
      "cell_type": "markdown",
      "metadata": {
        "id": "eqyeAZ1_EZEQ"
      },
      "source": [
        "# 2. Processing the Training Data"
      ]
    },
    {
      "cell_type": "code",
      "execution_count": 1,
      "metadata": {
        "id": "72fXOsC-EZEQ"
      },
      "outputs": [],
      "source": [
        "import os\n",
        "imdb_dir = './data/aclImdb/'\n",
        "train_dir = os.path.join(imdb_dir, 'train')\n",
        "labels_train = []\n",
        "texts_train = []\n",
        "for label_type in ['pos', 'neg']:\n",
        "    dir_name = os.path.join(train_dir, label_type)\n",
        "    for fname in os.listdir(dir_name):\n",
        "        if fname[-4:] == '.txt':\n",
        "            f = open(os.path.join(dir_name, fname))\n",
        "            texts_train.append(f.read())\n",
        "            f.close()\n",
        "            if label_type == 'neg':\n",
        "                labels_train.append(0)\n",
        "            else:\n",
        "                labels_train.append(1)"
      ]
    },
    {
      "cell_type": "code",
      "execution_count": 2,
      "metadata": {
        "id": "32HskFf1EZER",
        "outputId": "4071451d-305b-48e2-f435-aa33ff3afdb2"
      },
      "outputs": [
        {
          "name": "stdout",
          "output_type": "stream",
          "text": [
            "WARNING:tensorflow:From c:\\Users\\veera\\anaconda3\\envs\\DEV\\Lib\\site-packages\\keras\\src\\losses.py:2976: The name tf.losses.sparse_softmax_cross_entropy is deprecated. Please use tf.compat.v1.losses.sparse_softmax_cross_entropy instead.\n",
            "\n"
          ]
        }
      ],
      "source": [
        "from keras.preprocessing.text import Tokenizer\n",
        "\n",
        "vocabulary = 10000\n",
        "tokenizer = Tokenizer(num_words=vocabulary)\n",
        "tokenizer.fit_on_texts(texts_train)\n",
        "\n",
        "word_index = tokenizer.word_index\n",
        "sequences_train = tokenizer.texts_to_sequences(texts_train)"
      ]
    },
    {
      "cell_type": "code",
      "execution_count": 3,
      "metadata": {
        "id": "X6HhBoKOEZER"
      },
      "outputs": [],
      "source": [
        "from keras import preprocessing\n",
        "\n",
        "word_num = 500\n",
        "x_train = preprocessing.sequence.pad_sequences(sequences_train, maxlen=word_num)"
      ]
    },
    {
      "cell_type": "markdown",
      "metadata": {
        "id": "r-MtTuSdEZES"
      },
      "source": [
        "# 3. Split Training and Validation Data and Process Test Data"
      ]
    },
    {
      "cell_type": "code",
      "execution_count": 4,
      "metadata": {
        "id": "GVd47fFEEZES"
      },
      "outputs": [],
      "source": [
        "# Split Training and Validation Data\n",
        "import numpy\n",
        "\n",
        "n = x_train.shape[0]\n",
        "rand_perm = numpy.random.permutation(n)\n",
        "n_valid = int(n * 0.2)\n",
        "labels_train = numpy.array(labels_train)\n",
        "x_valid = x_train[rand_perm[0:n_valid], :]\n",
        "y_valid = labels_train[rand_perm[0:n_valid]]\n",
        "x_train = x_train[rand_perm[n_valid:n], :]\n",
        "y_train = labels_train[rand_perm[n_valid:n]]"
      ]
    },
    {
      "cell_type": "code",
      "execution_count": 5,
      "metadata": {
        "id": "M6VDkm2jEZES"
      },
      "outputs": [],
      "source": [
        "# Load Test Data\n",
        "import os\n",
        "imdb_dir = './data/aclImdb'\n",
        "test_dir = os.path.join(imdb_dir, 'test')\n",
        "labels_test = []\n",
        "texts_test = []\n",
        "for label_type in ['pos', 'neg']:\n",
        "    dir_name = os.path.join(test_dir, label_type)\n",
        "    for fname in os.listdir(dir_name):\n",
        "        if fname[-4:] == '.txt':\n",
        "            f = open(os.path.join(dir_name, fname))\n",
        "            texts_test.append(f.read())\n",
        "            f.close()\n",
        "            if label_type == 'neg':\n",
        "                labels_test.append(0)\n",
        "            else:\n",
        "                labels_test.append(1)"
      ]
    },
    {
      "cell_type": "code",
      "execution_count": 6,
      "metadata": {
        "id": "nXjUVNGEEZES"
      },
      "outputs": [],
      "source": [
        "# Do NOT fit the Tokenizer again!!!\n",
        "#tokenizer = Tokenizer(num_words=vocabulary)\n",
        "#tokenizer.fit_on_texts(texts_test)\n",
        "word_index = tokenizer.word_index\n",
        "sequences_test = tokenizer.texts_to_sequences(texts_test)"
      ]
    },
    {
      "cell_type": "code",
      "execution_count": 7,
      "metadata": {
        "id": "GrvWeawbEZES"
      },
      "outputs": [],
      "source": [
        "from keras import preprocessing\n",
        "\n",
        "x_test = preprocessing.sequence.pad_sequences(sequences_test, maxlen=word_num)"
      ]
    },
    {
      "cell_type": "markdown",
      "metadata": {
        "id": "-MxNkdCTEZES"
      },
      "source": [
        "# 4. Build a Simple Recurrent Neural Network\n"
      ]
    },
    {
      "cell_type": "code",
      "execution_count": 8,
      "metadata": {
        "id": "DIdsvNvSEZET",
        "outputId": "9ed00f55-7b1e-4a5b-edbe-ea7d09f4e6fe"
      },
      "outputs": [
        {
          "name": "stdout",
          "output_type": "stream",
          "text": [
            "WARNING:tensorflow:From c:\\Users\\veera\\anaconda3\\envs\\DEV\\Lib\\site-packages\\keras\\src\\backend.py:873: The name tf.get_default_graph is deprecated. Please use tf.compat.v1.get_default_graph instead.\n",
            "\n",
            "Model: \"sequential\"\n",
            "_________________________________________________________________\n",
            " Layer (type)                Output Shape              Param #   \n",
            "=================================================================\n",
            " embedding (Embedding)       (None, 500, 32)           320000    \n",
            "                                                                 \n",
            " simple_rnn (SimpleRNN)      (None, 32)                2080      \n",
            "                                                                 \n",
            " dense (Dense)               (None, 1)                 33        \n",
            "                                                                 \n",
            "=================================================================\n",
            "Total params: 322113 (1.23 MB)\n",
            "Trainable params: 322113 (1.23 MB)\n",
            "Non-trainable params: 0 (0.00 Byte)\n",
            "_________________________________________________________________\n"
          ]
        }
      ],
      "source": [
        "from keras.models import Sequential\n",
        "from keras.layers import SimpleRNN, Embedding, Dense\n",
        "\n",
        "vocabulary = 10000\n",
        "embedding_dim = 32\n",
        "word_num = 500\n",
        "state_dim = 32\n",
        "\n",
        "model = Sequential()\n",
        "model.add(Embedding(vocabulary, embedding_dim, input_length=word_num))\n",
        "model.add(SimpleRNN(state_dim, return_sequences=False))\n",
        "model.add(Dense(1, activation='sigmoid'))\n",
        "\n",
        "model.summary()"
      ]
    },
    {
      "cell_type": "code",
      "execution_count": 9,
      "metadata": {
        "id": "mJr7kOT9EZET",
        "outputId": "3c59eccb-424a-49fa-d75a-cc19cf4b90c8"
      },
      "outputs": [
        {
          "name": "stderr",
          "output_type": "stream",
          "text": [
            "WARNING:absl:`lr` is deprecated in Keras optimizer, please use `learning_rate` or use the legacy optimizer, e.g.,tf.keras.optimizers.legacy.RMSprop.\n"
          ]
        },
        {
          "name": "stdout",
          "output_type": "stream",
          "text": [
            "Epoch 1/3\n",
            "WARNING:tensorflow:From c:\\Users\\veera\\anaconda3\\envs\\DEV\\Lib\\site-packages\\keras\\src\\utils\\tf_utils.py:492: The name tf.ragged.RaggedTensorValue is deprecated. Please use tf.compat.v1.ragged.RaggedTensorValue instead.\n",
            "\n"
          ]
        },
        {
          "name": "stderr",
          "output_type": "stream",
          "text": [
            "WARNING:tensorflow:From c:\\Users\\veera\\anaconda3\\envs\\DEV\\Lib\\site-packages\\keras\\src\\utils\\tf_utils.py:492: The name tf.ragged.RaggedTensorValue is deprecated. Please use tf.compat.v1.ragged.RaggedTensorValue instead.\n",
            "\n"
          ]
        },
        {
          "name": "stdout",
          "output_type": "stream",
          "text": [
            "WARNING:tensorflow:From c:\\Users\\veera\\anaconda3\\envs\\DEV\\Lib\\site-packages\\keras\\src\\engine\\base_layer_utils.py:384: The name tf.executing_eagerly_outside_functions is deprecated. Please use tf.compat.v1.executing_eagerly_outside_functions instead.\n",
            "\n"
          ]
        },
        {
          "name": "stderr",
          "output_type": "stream",
          "text": [
            "WARNING:tensorflow:From c:\\Users\\veera\\anaconda3\\envs\\DEV\\Lib\\site-packages\\keras\\src\\engine\\base_layer_utils.py:384: The name tf.executing_eagerly_outside_functions is deprecated. Please use tf.compat.v1.executing_eagerly_outside_functions instead.\n",
            "\n"
          ]
        },
        {
          "name": "stdout",
          "output_type": "stream",
          "text": [
            "625/625 [==============================] - 37s 55ms/step - loss: 0.5537 - acc: 0.7015 - val_loss: 0.4350 - val_acc: 0.7934\n",
            "Epoch 2/3\n",
            "625/625 [==============================] - 32s 51ms/step - loss: 0.3625 - acc: 0.8512 - val_loss: 0.3329 - val_acc: 0.8718\n",
            "Epoch 3/3\n",
            "625/625 [==============================] - 32s 51ms/step - loss: 0.2791 - acc: 0.8891 - val_loss: 0.3305 - val_acc: 0.8716\n"
          ]
        }
      ],
      "source": [
        "from keras import optimizers\n",
        "\n",
        "epochs = 3\n",
        "\n",
        "model.compile(optimizer=optimizers.RMSprop(lr=0.001),\n",
        "              loss='binary_crossentropy', metrics=['acc'])\n",
        "history = model.fit(x_train, y_train, epochs=epochs,\n",
        "                    batch_size=32, validation_data=(x_valid, y_valid))"
      ]
    },
    {
      "cell_type": "code",
      "execution_count": 10,
      "metadata": {
        "id": "abjEHU8GEZET",
        "outputId": "c48b76af-8fe4-4b46-a2a3-2a08b5ce0671"
      },
      "outputs": [
        {
          "data": {
            "image/png": "[encoded data removed]",
            "text/plain": [
              "<Figure size 600x400 with 1 Axes>"
            ]
          },
          "metadata": {},
          "output_type": "display_data"
        }
      ],
      "source": [
        "import matplotlib.pyplot as plt\n",
        "%matplotlib inline\n",
        "\n",
        "fig = plt.figure(figsize=(6, 4))\n",
        "epochs_list = range(epochs)\n",
        "train_acc = history.history['acc']\n",
        "valid_acc = history.history['val_acc']\n",
        "plt.plot(epochs_list, train_acc, 'bo', label='Training Accuracy')\n",
        "plt.plot(epochs_list, valid_acc, 'r', label='Validation Accuracy')\n",
        "plt.xlabel('Epochs', fontsize=16)\n",
        "plt.ylabel('Accuracy', fontsize=16)\n",
        "plt.xticks(fontsize=16)\n",
        "plt.yticks(fontsize=16)\n",
        "plt.legend(fontsize=16)\n",
        "plt.show()\n",
        "\n",
        "#plt.tight_layout(pad=3)\n",
        "fig.savefig('imdb_rnn_acc.pdf', format='pdf', dpi=1200)"
      ]
    },
    {
      "cell_type": "code",
      "execution_count": 11,
      "metadata": {
        "id": "OhgdF2NpEZET",
        "outputId": "e71332ac-abc5-4c00-ef84-e19ea48b477b"
      },
      "outputs": [
        {
          "data": {
            "image/png": "[encoded data removed]",
            "text/plain": [
              "<Figure size 600x400 with 1 Axes>"
            ]
          },
          "metadata": {},
          "output_type": "display_data"
        }
      ],
      "source": [
        "import matplotlib.pyplot as plt\n",
        "%matplotlib inline\n",
        "\n",
        "fig = plt.figure(figsize=(6, 4))\n",
        "epochs_list = range(epochs)\n",
        "train_loss = history.history['loss']\n",
        "valid_loss = history.history['val_loss']\n",
        "plt.plot(epochs_list, train_loss, 'bo', label='Training Loss')\n",
        "plt.plot(epochs_list, valid_loss, 'r', label='Validation Loss')\n",
        "plt.xlabel('Epochs', fontsize=16)\n",
        "plt.ylabel('Loss', fontsize=16)\n",
        "plt.xticks(fontsize=16)\n",
        "plt.yticks(fontsize=16)\n",
        "plt.legend(fontsize=16)\n",
        "plt.show()\n",
        "\n",
        "#plt.tight_layout(pad=8.0)\n",
        "fig.savefig('imdb_rnn_loss.pdf', format='pdf', dpi=1200)"
      ]
    },
    {
      "cell_type": "code",
      "execution_count": 17,
      "metadata": {
        "id": "DKe9S0lyEZET",
        "outputId": "a7947f9f-318a-42f7-faf9-af61d8597b0c"
      },
      "outputs": [
        {
          "name": "stdout",
          "output_type": "stream",
          "text": [
            "782/782 [==============================] - 9s 11ms/step - loss: 0.3428 - acc: 0.8647\n",
            "loss = 0.3427561819553375\n",
            "acc = 0.8647199869155884\n"
          ]
        }
      ],
      "source": [
        "loss_and_acc = model.evaluate(x_test, numpy.array(labels_test))\n",
        "print('loss = ' + str(loss_and_acc[0]))\n",
        "print(f'acc = ' + str(loss_and_acc[1]))"
      ]
    },
    {
      "cell_type": "code",
      "execution_count": 18,
      "metadata": {
        "id": "T0ZLCHcnEZEU",
        "outputId": "4f08b6c3-12d8-4b40-b9ba-5817ebad3039"
      },
      "outputs": [
        {
          "name": "stdout",
          "output_type": "stream",
          "text": [
            "Model: \"sequential_1\"\n",
            "_________________________________________________________________\n",
            " Layer (type)                Output Shape              Param #   \n",
            "=================================================================\n",
            " embedding_1 (Embedding)     (None, 500, 32)           320000    \n",
            "                                                                 \n",
            " simple_rnn_1 (SimpleRNN)    (None, 500, 32)           2080      \n",
            "                                                                 \n",
            " flatten (Flatten)           (None, 16000)             0         \n",
            "                                                                 \n",
            " dense_1 (Dense)             (None, 1)                 16001     \n",
            "                                                                 \n",
            "=================================================================\n",
            "Total params: 338081 (1.29 MB)\n",
            "Trainable params: 338081 (1.29 MB)\n",
            "Non-trainable params: 0 (0.00 Byte)\n",
            "_________________________________________________________________\n"
          ]
        }
      ],
      "source": [
        "from keras.models import Sequential\n",
        "from keras.layers import SimpleRNN, Embedding, Dense, Flatten \n",
        "\n",
        "vocabulary = 10000\n",
        "embedding_dim = 32\n",
        "word_num = 500\n",
        "state_dim = 32\n",
        "\n",
        "model = Sequential()\n",
        "model.add(Embedding(vocabulary, embedding_dim, input_length=word_num))\n",
        "model.add(SimpleRNN(state_dim, return_sequences=True))\n",
        "model.add(Flatten())\n",
        "model.add(Dense(1, activation='sigmoid'))\n",
        "\n",
        "model.summary()"
      ]
    },
    {
      "cell_type": "code",
      "execution_count": 19,
      "metadata": {
        "id": "1MWof-fEEZEU",
        "outputId": "e377eed2-ab16-479d-cac6-d27818740e56"
      },
      "outputs": [
        {
          "name": "stderr",
          "output_type": "stream",
          "text": [
            "WARNING:absl:`lr` is deprecated in Keras optimizer, please use `learning_rate` or use the legacy optimizer, e.g.,tf.keras.optimizers.legacy.RMSprop.\n"
          ]
        },
        {
          "name": "stdout",
          "output_type": "stream",
          "text": [
            "Epoch 1/3\n",
            "625/625 [==============================] - 39s 59ms/step - loss: 0.4989 - acc: 0.7252 - val_loss: 0.3106 - val_acc: 0.8752\n",
            "Epoch 2/3\n",
            "625/625 [==============================] - 36s 57ms/step - loss: 0.2242 - acc: 0.9099 - val_loss: 0.3488 - val_acc: 0.8510\n",
            "Epoch 3/3\n",
            "625/625 [==============================] - 36s 58ms/step - loss: 0.1089 - acc: 0.9607 - val_loss: 0.4085 - val_acc: 0.8556\n"
          ]
        }
      ],
      "source": [
        "from keras import optimizers\n",
        "\n",
        "epochs = 3\n",
        "\n",
        "model.compile(optimizer=optimizers.RMSprop(lr=0.001),\n",
        "              loss='binary_crossentropy', metrics=['acc'])\n",
        "history = model.fit(x_train, y_train, epochs=epochs,\n",
        "                    batch_size=32, validation_data=(x_valid, y_valid))"
      ]
    },
    {
      "cell_type": "code",
      "execution_count": 20,
      "metadata": {
        "id": "xihdj7CPEZEU",
        "outputId": "8515e82d-2f1b-4965-e27c-409d580bab24"
      },
      "outputs": [
        {
          "name": "stdout",
          "output_type": "stream",
          "text": [
            "782/782 [==============================] - 9s 11ms/step - loss: 0.4192 - acc: 0.8460\n",
            "loss = 0.41920140385627747\n",
            "acc = 0.8460000157356262\n"
          ]
        }
      ],
      "source": [
        "loss_and_acc = model.evaluate(x_test, numpy.array(labels_test))\n",
        "print('loss = ' + str(loss_and_acc[0]))\n",
        "print('acc = ' + str(loss_and_acc[1]))"
      ]
    },
    {
      "cell_type": "code",
      "execution_count": null,
      "metadata": {
        "id": "6LUVJ5-LEZEU"
      },
      "outputs": [],
      "source": []
    },
    {
      "cell_type": "code",
      "execution_count": null,
      "metadata": {
        "id": "m-A7yASEEZEU"
      },
      "outputs": [],
      "source": []
    },
    {
      "cell_type": "markdown",
      "metadata": {
        "id": "9Vq9icSvEZEU"
      },
      "source": [
        "# 5. LSTM"
      ]
    },
    {
      "cell_type": "code",
      "execution_count": 21,
      "metadata": {
        "id": "9hYNZblkEZEU",
        "outputId": "d2826ae2-2b4f-44ef-d874-bf24072fc5f8"
      },
      "outputs": [
        {
          "name": "stdout",
          "output_type": "stream",
          "text": [
            "Model: \"sequential_2\"\n",
            "_________________________________________________________________\n",
            " Layer (type)                Output Shape              Param #   \n",
            "=================================================================\n",
            " embedding_2 (Embedding)     (None, 500, 32)           320000    \n",
            "                                                                 \n",
            " lstm (LSTM)                 (None, 32)                8320      \n",
            "                                                                 \n",
            " dense_2 (Dense)             (None, 1)                 33        \n",
            "                                                                 \n",
            "=================================================================\n",
            "Total params: 328353 (1.25 MB)\n",
            "Trainable params: 328353 (1.25 MB)\n",
            "Non-trainable params: 0 (0.00 Byte)\n",
            "_________________________________________________________________\n"
          ]
        }
      ],
      "source": [
        "from keras.models import Sequential\n",
        "from keras.layers import LSTM, Embedding, Dense, Flatten\n",
        "\n",
        "vocabulary = 10000\n",
        "embedding_dim = 32\n",
        "word_num = 500\n",
        "state_dim = 32\n",
        "\n",
        "model = Sequential()\n",
        "model.add(Embedding(vocabulary, embedding_dim, input_length=word_num))\n",
        "model.add(LSTM(state_dim, return_sequences=False))\n",
        "model.add(Dense(1, activation='sigmoid'))\n",
        "\n",
        "model.summary()"
      ]
    },
    {
      "cell_type": "code",
      "execution_count": 22,
      "metadata": {
        "id": "JXKBOb4gEZEU"
      },
      "outputs": [
        {
          "name": "stderr",
          "output_type": "stream",
          "text": [
            "WARNING:absl:`lr` is deprecated in Keras optimizer, please use `learning_rate` or use the legacy optimizer, e.g.,tf.keras.optimizers.legacy.RMSprop.\n"
          ]
        },
        {
          "name": "stdout",
          "output_type": "stream",
          "text": [
            "Epoch 1/10\n",
            "625/625 [==============================] - 55s 84ms/step - loss: 0.4403 - acc: 0.7901 - val_loss: 0.2906 - val_acc: 0.8820\n",
            "Epoch 2/10\n",
            "625/625 [==============================] - 51s 82ms/step - loss: 0.2759 - acc: 0.8936 - val_loss: 0.2813 - val_acc: 0.8862\n",
            "Epoch 3/10\n",
            "625/625 [==============================] - 51s 81ms/step - loss: 0.2310 - acc: 0.9135 - val_loss: 0.3261 - val_acc: 0.8724\n",
            "Epoch 4/10\n",
            "625/625 [==============================] - 51s 81ms/step - loss: 0.2011 - acc: 0.9258 - val_loss: 0.2824 - val_acc: 0.8922\n",
            "Epoch 5/10\n",
            "625/625 [==============================] - 51s 82ms/step - loss: 0.1787 - acc: 0.9330 - val_loss: 0.3094 - val_acc: 0.8786\n",
            "Epoch 6/10\n",
            "625/625 [==============================] - 51s 82ms/step - loss: 0.1659 - acc: 0.9395 - val_loss: 0.3018 - val_acc: 0.8926\n",
            "Epoch 7/10\n",
            "625/625 [==============================] - 53s 85ms/step - loss: 0.1522 - acc: 0.9463 - val_loss: 0.3117 - val_acc: 0.8900\n",
            "Epoch 8/10\n",
            "625/625 [==============================] - 53s 84ms/step - loss: 0.1398 - acc: 0.9504 - val_loss: 0.2986 - val_acc: 0.8872\n",
            "Epoch 9/10\n",
            "625/625 [==============================] - 53s 84ms/step - loss: 0.1317 - acc: 0.9552 - val_loss: 0.3162 - val_acc: 0.8854\n",
            "Epoch 10/10\n",
            "625/625 [==============================] - 46s 74ms/step - loss: 0.1164 - acc: 0.9601 - val_loss: 0.3553 - val_acc: 0.8852\n"
          ]
        }
      ],
      "source": [
        "from keras import optimizers\n",
        "\n",
        "epochs = 10\n",
        "\n",
        "model.compile(optimizer=optimizers.RMSprop(lr=0.0001),\n",
        "              loss='binary_crossentropy', metrics=['acc'])\n",
        "history = model.fit(x_train, y_train, epochs=epochs,\n",
        "                    batch_size=32, validation_data=(x_valid, y_valid))"
      ]
    },
    {
      "cell_type": "code",
      "execution_count": 23,
      "metadata": {
        "id": "CbVigTrlEZEV",
        "outputId": "5ccaaff7-cf82-40b4-94c2-a295b1521471"
      },
      "outputs": [
        {
          "name": "stdout",
          "output_type": "stream",
          "text": [
            "782/782 [==============================] - 20s 26ms/step - loss: 0.4137 - acc: 0.8653\n",
            "loss = 0.4137340188026428\n",
            "acc = 0.8652799725532532\n"
          ]
        }
      ],
      "source": [
        "loss_and_acc = model.evaluate(x_test, numpy.array(labels_test))\n",
        "print('loss = ' + str(loss_and_acc[0]))\n",
        "print('acc = ' + str(loss_and_acc[1]))"
      ]
    },
    {
      "cell_type": "code",
      "execution_count": null,
      "metadata": {
        "id": "6xoESjefEZEV"
      },
      "outputs": [],
      "source": []
    },
    {
      "cell_type": "code",
      "execution_count": null,
      "metadata": {
        "id": "7U6AbZNPEZEV"
      },
      "outputs": [],
      "source": []
    },
    {
      "cell_type": "code",
      "execution_count": 24,
      "metadata": {
        "id": "sPggsT1FEZEV",
        "outputId": "7a09132c-524f-4374-b094-b65913f603c6"
      },
      "outputs": [
        {
          "name": "stdout",
          "output_type": "stream",
          "text": [
            "Model: \"sequential_3\"\n",
            "_________________________________________________________________\n",
            " Layer (type)                Output Shape              Param #   \n",
            "=================================================================\n",
            " embedding_3 (Embedding)     (None, 500, 32)           320000    \n",
            "                                                                 \n",
            " lstm_1 (LSTM)               (None, 32)                8320      \n",
            "                                                                 \n",
            " dense_3 (Dense)             (None, 1)                 33        \n",
            "                                                                 \n",
            "=================================================================\n",
            "Total params: 328353 (1.25 MB)\n",
            "Trainable params: 328353 (1.25 MB)\n",
            "Non-trainable params: 0 (0.00 Byte)\n",
            "_________________________________________________________________\n"
          ]
        }
      ],
      "source": [
        "from keras.models import Sequential\n",
        "from keras.layers import LSTM, Embedding, Dense, Flatten\n",
        "\n",
        "vocabulary = 10000\n",
        "embedding_dim = 32\n",
        "word_num = 500\n",
        "state_dim = 32\n",
        "\n",
        "model = Sequential()\n",
        "model.add(Embedding(vocabulary, embedding_dim, input_length=word_num))\n",
        "model.add(LSTM(state_dim, return_sequences=False, dropout=0.2))\n",
        "model.add(Dense(1, activation='sigmoid'))\n",
        "\n",
        "model.summary()"
      ]
    },
    {
      "cell_type": "code",
      "execution_count": 25,
      "metadata": {
        "id": "RtFKDRU-EZEV",
        "outputId": "e56da753-4710-4ef7-aad5-6874c8db380f"
      },
      "outputs": [
        {
          "name": "stdout",
          "output_type": "stream",
          "text": [
            "Epoch 1/10\n",
            "625/625 [==============================] - 63s 97ms/step - loss: 0.6923 - acc: 0.5505 - val_loss: 0.6904 - val_acc: 0.6120\n",
            "Epoch 2/10\n",
            "625/625 [==============================] - 60s 96ms/step - loss: 0.6537 - acc: 0.6700 - val_loss: 0.5729 - val_acc: 0.7412\n",
            "Epoch 3/10\n",
            "625/625 [==============================] - 62s 100ms/step - loss: 0.4991 - acc: 0.7925 - val_loss: 0.4469 - val_acc: 0.8254\n",
            "Epoch 4/10\n",
            "625/625 [==============================] - 62s 100ms/step - loss: 0.3777 - acc: 0.8527 - val_loss: 0.3542 - val_acc: 0.8574\n",
            "Epoch 5/10\n",
            "625/625 [==============================] - 56s 90ms/step - loss: 0.3061 - acc: 0.8831 - val_loss: 0.3132 - val_acc: 0.8748\n",
            "Epoch 6/10\n",
            "625/625 [==============================] - 62s 100ms/step - loss: 0.2709 - acc: 0.8967 - val_loss: 0.2969 - val_acc: 0.8804\n",
            "Epoch 7/10\n",
            "625/625 [==============================] - 57s 90ms/step - loss: 0.2445 - acc: 0.9087 - val_loss: 0.2837 - val_acc: 0.8850\n",
            "Epoch 8/10\n",
            "625/625 [==============================] - 55s 89ms/step - loss: 0.2256 - acc: 0.9153 - val_loss: 0.2796 - val_acc: 0.8862\n",
            "Epoch 9/10\n",
            "625/625 [==============================] - 57s 92ms/step - loss: 0.2118 - acc: 0.9214 - val_loss: 0.2760 - val_acc: 0.8886\n",
            "Epoch 10/10\n",
            "625/625 [==============================] - 56s 90ms/step - loss: 0.1982 - acc: 0.9270 - val_loss: 0.2807 - val_acc: 0.8910\n"
          ]
        }
      ],
      "source": [
        "from keras import optimizers\n",
        "\n",
        "epochs = 10\n",
        "\n",
        "model.compile(optimizer=optimizers.RMSprop(learning_rate=0.0001),\n",
        "              loss='binary_crossentropy', metrics=['acc'])\n",
        "history = model.fit(x_train, y_train, epochs=epochs,\n",
        "                    batch_size=32, validation_data=(x_valid, y_valid))"
      ]
    },
    {
      "cell_type": "code",
      "execution_count": 26,
      "metadata": {
        "id": "JvksmrrOEZEV",
        "outputId": "d372aedd-e88e-4982-8097-b43122494e33"
      },
      "outputs": [
        {
          "name": "stdout",
          "output_type": "stream",
          "text": [
            "782/782 [==============================] - 24s 30ms/step - loss: 0.2838 - acc: 0.8877\n",
            "loss = 0.2837585508823395\n",
            "acc = 0.8876799941062927\n"
          ]
        }
      ],
      "source": [
        "loss_and_acc = model.evaluate(x_test, numpy.array(labels_test))\n",
        "print('loss = ' + str(loss_and_acc[0]))\n",
        "print('acc = ' + str(loss_and_acc[1]))"
      ]
    },
    {
      "cell_type": "code",
      "execution_count": null,
      "metadata": {
        "id": "UDvl15Z2EZEV"
      },
      "outputs": [],
      "source": []
    },
    {
      "cell_type": "code",
      "execution_count": null,
      "metadata": {
        "id": "Cu_yjp7LEZEV"
      },
      "outputs": [],
      "source": []
    },
    {
      "cell_type": "code",
      "execution_count": 27,
      "metadata": {
        "id": "Gn9OiMqtEZEV",
        "outputId": "2d6594b2-9a7c-49c5-fbd6-45552755410d"
      },
      "outputs": [
        {
          "name": "stdout",
          "output_type": "stream",
          "text": [
            "Model: \"sequential_4\"\n",
            "_________________________________________________________________\n",
            " Layer (type)                Output Shape              Param #   \n",
            "=================================================================\n",
            " embedding_4 (Embedding)     (None, 500, 32)           320000    \n",
            "                                                                 \n",
            " lstm_2 (LSTM)               (None, 500, 32)           8320      \n",
            "                                                                 \n",
            " lstm_3 (LSTM)               (None, 500, 32)           8320      \n",
            "                                                                 \n",
            " lstm_4 (LSTM)               (None, 32)                8320      \n",
            "                                                                 \n",
            " dense_4 (Dense)             (None, 1)                 33        \n",
            "                                                                 \n",
            "=================================================================\n",
            "Total params: 344993 (1.32 MB)\n",
            "Trainable params: 344993 (1.32 MB)\n",
            "Non-trainable params: 0 (0.00 Byte)\n",
            "_________________________________________________________________\n"
          ]
        }
      ],
      "source": [
        "from keras.models import Sequential\n",
        "from keras.layers import LSTM, Embedding, Dense\n",
        "\n",
        "vocabulary = 10000\n",
        "embedding_dim = 32\n",
        "word_num = 500\n",
        "state_dim = 32\n",
        "\n",
        "model = Sequential()\n",
        "model.add(Embedding(vocabulary, embedding_dim, input_length=word_num))\n",
        "model.add(LSTM(state_dim, return_sequences=True, dropout=0.2))\n",
        "model.add(LSTM(state_dim, return_sequences=True, dropout=0.2))\n",
        "model.add(LSTM(state_dim, return_sequences=False, dropout=0.2))\n",
        "model.add(Dense(1, activation='sigmoid'))\n",
        "\n",
        "model.summary()"
      ]
    },
    {
      "cell_type": "code",
      "execution_count": 28,
      "metadata": {
        "id": "cdc1SiVjEZEV",
        "outputId": "d8d0c535-3179-43f2-a93a-9100282b4120"
      },
      "outputs": [
        {
          "name": "stderr",
          "output_type": "stream",
          "text": [
            "WARNING:absl:`lr` is deprecated in Keras optimizer, please use `learning_rate` or use the legacy optimizer, e.g.,tf.keras.optimizers.legacy.RMSprop.\n"
          ]
        },
        {
          "name": "stdout",
          "output_type": "stream",
          "text": [
            "Epoch 1/10\n",
            "625/625 [==============================] - 195s 302ms/step - loss: 0.5164 - acc: 0.7157 - val_loss: 0.3440 - val_acc: 0.8662\n",
            "Epoch 2/10\n",
            "625/625 [==============================] - 157s 252ms/step - loss: 0.3029 - acc: 0.8796 - val_loss: 0.3218 - val_acc: 0.8640\n",
            "Epoch 3/10\n",
            "625/625 [==============================] - 169s 271ms/step - loss: 0.2478 - acc: 0.9050 - val_loss: 0.3252 - val_acc: 0.8588\n",
            "Epoch 4/10\n",
            "625/625 [==============================] - 186s 297ms/step - loss: 0.2172 - acc: 0.9200 - val_loss: 0.2740 - val_acc: 0.8914\n",
            "Epoch 5/10\n",
            "625/625 [==============================] - 191s 305ms/step - loss: 0.1955 - acc: 0.9291 - val_loss: 0.2749 - val_acc: 0.8886\n",
            "Epoch 6/10\n",
            "625/625 [==============================] - 170s 272ms/step - loss: 0.1785 - acc: 0.9356 - val_loss: 0.2807 - val_acc: 0.8896\n",
            "Epoch 7/10\n",
            "625/625 [==============================] - 151s 241ms/step - loss: 0.1609 - acc: 0.9429 - val_loss: 0.2959 - val_acc: 0.8854\n",
            "Epoch 8/10\n",
            "625/625 [==============================] - 165s 264ms/step - loss: 0.1477 - acc: 0.9490 - val_loss: 0.3061 - val_acc: 0.8814\n",
            "Epoch 9/10\n",
            "625/625 [==============================] - 171s 274ms/step - loss: 0.1367 - acc: 0.9542 - val_loss: 0.3348 - val_acc: 0.8890\n",
            "Epoch 10/10\n",
            "625/625 [==============================] - 175s 280ms/step - loss: 0.1261 - acc: 0.9585 - val_loss: 0.4532 - val_acc: 0.8670\n"
          ]
        }
      ],
      "source": [
        "from keras import optimizers\n",
        "\n",
        "epochs = 10\n",
        "\n",
        "model.compile(optimizer=optimizers.RMSprop(lr=0.001),\n",
        "              loss='binary_crossentropy', metrics=['acc'])\n",
        "history = model.fit(x_train, y_train, epochs=epochs,\n",
        "                    batch_size=32, validation_data=(x_valid, y_valid))"
      ]
    },
    {
      "cell_type": "code",
      "execution_count": 29,
      "metadata": {
        "id": "UPcw2dD3EZEV",
        "outputId": "86a20614-79ce-4456-b422-f10f9d926c19"
      },
      "outputs": [
        {
          "name": "stdout",
          "output_type": "stream",
          "text": [
            "782/782 [==============================] - 80s 102ms/step - loss: 0.5142 - acc: 0.8494\n",
            "loss = 0.5142177939414978\n",
            "acc = 0.849399983882904\n"
          ]
        }
      ],
      "source": [
        "loss_and_acc = model.evaluate(x_test, numpy.array(labels_test))\n",
        "print('loss = ' + str(loss_and_acc[0]))\n",
        "print('acc = ' + str(loss_and_acc[1]))"
      ]
    },
    {
      "cell_type": "markdown",
      "metadata": {
        "id": "BUgoMCHOEZEW"
      },
      "source": [
        "# 6. Bi-LSTM"
      ]
    },
    {
      "cell_type": "code",
      "execution_count": 30,
      "metadata": {
        "id": "GnBJbpypEZEW",
        "outputId": "06c439a3-20d2-4756-cc3e-2a6acae2c1ab"
      },
      "outputs": [
        {
          "name": "stdout",
          "output_type": "stream",
          "text": [
            "Model: \"sequential_5\"\n",
            "_________________________________________________________________\n",
            " Layer (type)                Output Shape              Param #   \n",
            "=================================================================\n",
            " embedding_5 (Embedding)     (None, 500, 32)           320000    \n",
            "                                                                 \n",
            " bidirectional (Bidirection  (None, 64)                16640     \n",
            " al)                                                             \n",
            "                                                                 \n",
            " dense_5 (Dense)             (None, 1)                 65        \n",
            "                                                                 \n",
            "=================================================================\n",
            "Total params: 336705 (1.28 MB)\n",
            "Trainable params: 336705 (1.28 MB)\n",
            "Non-trainable params: 0 (0.00 Byte)\n",
            "_________________________________________________________________\n"
          ]
        }
      ],
      "source": [
        "from keras.models import Sequential\n",
        "from keras.layers import LSTM, Embedding, Dense, Bidirectional\n",
        "\n",
        "vocabulary = 10000\n",
        "embedding_dim = 32\n",
        "word_num = 500\n",
        "state_dim = 32\n",
        "\n",
        "model = Sequential()\n",
        "model.add(Embedding(vocabulary, embedding_dim, input_length=word_num))\n",
        "model.add(Bidirectional(LSTM(state_dim, return_sequences=False, dropout=0.2)))\n",
        "model.add(Dense(1, activation='sigmoid'))\n",
        "\n",
        "model.summary()"
      ]
    },
    {
      "cell_type": "code",
      "execution_count": 31,
      "metadata": {
        "id": "MHeAS3IVEZEZ",
        "outputId": "a7fe08ea-31f6-4cc8-a5ed-d1832d392dd4"
      },
      "outputs": [
        {
          "name": "stderr",
          "output_type": "stream",
          "text": [
            "WARNING:absl:`lr` is deprecated in Keras optimizer, please use `learning_rate` or use the legacy optimizer, e.g.,tf.keras.optimizers.legacy.RMSprop.\n"
          ]
        },
        {
          "name": "stdout",
          "output_type": "stream",
          "text": [
            "Epoch 1/3\n",
            "625/625 [==============================] - 86s 129ms/step - loss: 0.4829 - acc: 0.7582 - val_loss: 0.3142 - val_acc: 0.8700\n",
            "Epoch 2/3\n",
            "625/625 [==============================] - 77s 124ms/step - loss: 0.2909 - acc: 0.8843 - val_loss: 0.3332 - val_acc: 0.8592\n",
            "Epoch 3/3\n",
            "625/625 [==============================] - 66s 106ms/step - loss: 0.2405 - acc: 0.9095 - val_loss: 0.2898 - val_acc: 0.8806\n"
          ]
        }
      ],
      "source": [
        "from keras import optimizers\n",
        "\n",
        "epochs = 3\n",
        "\n",
        "model.compile(optimizer=optimizers.RMSprop(lr=0.0001),\n",
        "              loss='binary_crossentropy', metrics=['acc'])\n",
        "history = model.fit(x_train, y_train, epochs=epochs,\n",
        "                    batch_size=32, validation_data=(x_valid, y_valid))"
      ]
    },
    {
      "cell_type": "code",
      "execution_count": 33,
      "metadata": {
        "id": "UcORUwN1EZEZ",
        "outputId": "6dec3616-c6ac-4acf-e295-89ff21648e22"
      },
      "outputs": [
        {
          "name": "stdout",
          "output_type": "stream",
          "text": [
            "782/782 [==============================] - 26s 33ms/step - loss: 0.2952 - acc: 0.8810\n",
            "loss = 0.2951814532279968\n",
            "acc = 0.8809999823570251\n"
          ]
        }
      ],
      "source": [
        "loss_and_acc = model.evaluate(x_test, numpy.array(labels_test))\n",
        "print('loss = ' + str(loss_and_acc[0]))\n",
        "print('acc = ' + str(loss_and_acc[1]))"
      ]
    },
    {
      "cell_type": "code",
      "execution_count": null,
      "metadata": {
        "id": "mb_ny8IBEZEZ"
      },
      "outputs": [],
      "source": []
    }
  ],
  "metadata": {
    "colab": {
      "provenance": []
    },
    "kernelspec": {
      "display_name": "Python 3",
      "language": "python",
      "name": "python3"
    },
    "language_info": {
      "codemirror_mode": {
        "name": "ipython",
        "version": 3
      },
      "file_extension": ".py",
      "mimetype": "text/x-python",
      "name": "python",
      "nbconvert_exporter": "python",
      "pygments_lexer": "ipython3",
      "version": "3.11.5"
    }
  },
  "nbformat": 4,
  "nbformat_minor": 0
}
